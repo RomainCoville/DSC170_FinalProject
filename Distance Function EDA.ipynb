{
 "cells": [
  {
   "cell_type": "code",
   "execution_count": 113,
   "metadata": {},
   "outputs": [],
   "source": [
    "import arcgis\n",
    "from arcgis.gis import GIS\n",
    "from ipywidgets import *\n",
    "from IPython.display import display\n",
    "from arcgis.features import use_proximity\n",
    "from arcgis.features import SpatialDataFrame\n",
    "import geopandas\n",
    "import pandas as pd\n",
    "import numpy as np\n",
    "import json"
   ]
  },
  {
   "cell_type": "code",
   "execution_count": 2,
   "metadata": {},
   "outputs": [
    {
     "name": "stdout",
     "output_type": "stream",
     "text": [
      "Enter password: ········\n"
     ]
    }
   ],
   "source": [
    "gis = GIS(username=\"nracelis_ucsd5\")"
   ]
  },
  {
   "cell_type": "code",
   "execution_count": 9,
   "metadata": {},
   "outputs": [
    {
     "name": "stderr",
     "output_type": "stream",
     "text": [
      "/opt/conda/lib/python3.7/site-packages/IPython/core/interactiveshell.py:3051: DtypeWarning: Columns (43,61,62) have mixed types. Specify dtype option on import or set low_memory=False.\n",
      "  interactivity=interactivity, compiler=compiler, result=result)\n"
     ]
    },
    {
     "data": {
      "text/plain": [
       "(66414, 106)"
      ]
     },
     "execution_count": 9,
     "metadata": {},
     "output_type": "execute_result"
    }
   ],
   "source": [
    "df_listings = pd.read_csv('Data/airbnb_listings.csv')\n",
    "df_listings.shape"
   ]
  },
  {
   "cell_type": "code",
   "execution_count": 10,
   "metadata": {
    "scrolled": true
   },
   "outputs": [
    {
     "data": {
      "text/html": [
       "<div>\n",
       "<style scoped>\n",
       "    .dataframe tbody tr th:only-of-type {\n",
       "        vertical-align: middle;\n",
       "    }\n",
       "\n",
       "    .dataframe tbody tr th {\n",
       "        vertical-align: top;\n",
       "    }\n",
       "\n",
       "    .dataframe thead th {\n",
       "        text-align: right;\n",
       "    }\n",
       "</style>\n",
       "<table border=\"1\" class=\"dataframe\">\n",
       "  <thead>\n",
       "    <tr style=\"text-align: right;\">\n",
       "      <th></th>\n",
       "      <th>id</th>\n",
       "      <th>listing_url</th>\n",
       "      <th>scrape_id</th>\n",
       "      <th>last_scraped</th>\n",
       "      <th>name</th>\n",
       "      <th>summary</th>\n",
       "      <th>space</th>\n",
       "      <th>description</th>\n",
       "      <th>experiences_offered</th>\n",
       "      <th>neighborhood_overview</th>\n",
       "      <th>...</th>\n",
       "      <th>instant_bookable</th>\n",
       "      <th>is_business_travel_ready</th>\n",
       "      <th>cancellation_policy</th>\n",
       "      <th>require_guest_profile_picture</th>\n",
       "      <th>require_guest_phone_verification</th>\n",
       "      <th>calculated_host_listings_count</th>\n",
       "      <th>calculated_host_listings_count_entire_homes</th>\n",
       "      <th>calculated_host_listings_count_private_rooms</th>\n",
       "      <th>calculated_host_listings_count_shared_rooms</th>\n",
       "      <th>reviews_per_month</th>\n",
       "    </tr>\n",
       "  </thead>\n",
       "  <tbody>\n",
       "    <tr>\n",
       "      <th>0</th>\n",
       "      <td>3109</td>\n",
       "      <td>https://www.airbnb.com/rooms/3109</td>\n",
       "      <td>20200216042459</td>\n",
       "      <td>2020-02-16</td>\n",
       "      <td>zen and calm</td>\n",
       "      <td>Appartement très calme de 50M2 Utilisation de ...</td>\n",
       "      <td>I bedroom appartment in Paris 14</td>\n",
       "      <td>I bedroom appartment in Paris 14 Good restaura...</td>\n",
       "      <td>none</td>\n",
       "      <td>Good restaurants very close the Montparnasse S...</td>\n",
       "      <td>...</td>\n",
       "      <td>f</td>\n",
       "      <td>f</td>\n",
       "      <td>flexible</td>\n",
       "      <td>f</td>\n",
       "      <td>f</td>\n",
       "      <td>1</td>\n",
       "      <td>1</td>\n",
       "      <td>0</td>\n",
       "      <td>0</td>\n",
       "      <td>0.24</td>\n",
       "    </tr>\n",
       "    <tr>\n",
       "      <th>1</th>\n",
       "      <td>5396</td>\n",
       "      <td>https://www.airbnb.com/rooms/5396</td>\n",
       "      <td>20200216042459</td>\n",
       "      <td>2020-02-17</td>\n",
       "      <td>Explore the heart of old Paris</td>\n",
       "      <td>Cozy, well-appointed and graciously designed s...</td>\n",
       "      <td>Small, well appointed studio apartment at the ...</td>\n",
       "      <td>Cozy, well-appointed and graciously designed s...</td>\n",
       "      <td>none</td>\n",
       "      <td>You are within walking distance to the Louvre,...</td>\n",
       "      <td>...</td>\n",
       "      <td>t</td>\n",
       "      <td>f</td>\n",
       "      <td>strict_14_with_grace_period</td>\n",
       "      <td>f</td>\n",
       "      <td>f</td>\n",
       "      <td>1</td>\n",
       "      <td>1</td>\n",
       "      <td>0</td>\n",
       "      <td>0</td>\n",
       "      <td>1.63</td>\n",
       "    </tr>\n",
       "    <tr>\n",
       "      <th>2</th>\n",
       "      <td>7397</td>\n",
       "      <td>https://www.airbnb.com/rooms/7397</td>\n",
       "      <td>20200216042459</td>\n",
       "      <td>2020-02-16</td>\n",
       "      <td>MARAIS - 2ROOMS APT - 2/4 PEOPLE</td>\n",
       "      <td>VERY CONVENIENT, WITH THE BEST LOCATION !</td>\n",
       "      <td>PLEASE ASK ME BEFORE TO MAKE A REQUEST !!! No ...</td>\n",
       "      <td>VERY CONVENIENT, WITH THE BEST LOCATION ! PLEA...</td>\n",
       "      <td>none</td>\n",
       "      <td>NaN</td>\n",
       "      <td>...</td>\n",
       "      <td>f</td>\n",
       "      <td>f</td>\n",
       "      <td>moderate</td>\n",
       "      <td>f</td>\n",
       "      <td>f</td>\n",
       "      <td>1</td>\n",
       "      <td>1</td>\n",
       "      <td>0</td>\n",
       "      <td>0</td>\n",
       "      <td>2.47</td>\n",
       "    </tr>\n",
       "    <tr>\n",
       "      <th>3</th>\n",
       "      <td>7964</td>\n",
       "      <td>https://www.airbnb.com/rooms/7964</td>\n",
       "      <td>20200216042459</td>\n",
       "      <td>2020-02-16</td>\n",
       "      <td>Large &amp; sunny flat with balcony !</td>\n",
       "      <td>Very large &amp; nice apartment all for you!  - Su...</td>\n",
       "      <td>hello ! We have a great 75 square meter apartm...</td>\n",
       "      <td>Very large &amp; nice apartment all for you!  - Su...</td>\n",
       "      <td>none</td>\n",
       "      <td>NaN</td>\n",
       "      <td>...</td>\n",
       "      <td>f</td>\n",
       "      <td>f</td>\n",
       "      <td>strict_14_with_grace_period</td>\n",
       "      <td>f</td>\n",
       "      <td>f</td>\n",
       "      <td>1</td>\n",
       "      <td>1</td>\n",
       "      <td>0</td>\n",
       "      <td>0</td>\n",
       "      <td>0.05</td>\n",
       "    </tr>\n",
       "    <tr>\n",
       "      <th>4</th>\n",
       "      <td>9359</td>\n",
       "      <td>https://www.airbnb.com/rooms/9359</td>\n",
       "      <td>20200216042459</td>\n",
       "      <td>2020-02-16</td>\n",
       "      <td>Cozy, Central Paris: WALK or VELIB EVERYWHERE !</td>\n",
       "      <td>Location! Location! Location! Just bring your ...</td>\n",
       "      <td>Since I live in the USA, it is difficult to ma...</td>\n",
       "      <td>Location! Location! Location! Just bring your ...</td>\n",
       "      <td>none</td>\n",
       "      <td>NaN</td>\n",
       "      <td>...</td>\n",
       "      <td>f</td>\n",
       "      <td>f</td>\n",
       "      <td>strict_14_with_grace_period</td>\n",
       "      <td>t</td>\n",
       "      <td>t</td>\n",
       "      <td>1</td>\n",
       "      <td>1</td>\n",
       "      <td>0</td>\n",
       "      <td>0</td>\n",
       "      <td>NaN</td>\n",
       "    </tr>\n",
       "  </tbody>\n",
       "</table>\n",
       "<p>5 rows × 106 columns</p>\n",
       "</div>"
      ],
      "text/plain": [
       "     id                        listing_url       scrape_id last_scraped  \\\n",
       "0  3109  https://www.airbnb.com/rooms/3109  20200216042459   2020-02-16   \n",
       "1  5396  https://www.airbnb.com/rooms/5396  20200216042459   2020-02-17   \n",
       "2  7397  https://www.airbnb.com/rooms/7397  20200216042459   2020-02-16   \n",
       "3  7964  https://www.airbnb.com/rooms/7964  20200216042459   2020-02-16   \n",
       "4  9359  https://www.airbnb.com/rooms/9359  20200216042459   2020-02-16   \n",
       "\n",
       "                                              name  \\\n",
       "0                                     zen and calm   \n",
       "1                   Explore the heart of old Paris   \n",
       "2                 MARAIS - 2ROOMS APT - 2/4 PEOPLE   \n",
       "3                Large & sunny flat with balcony !   \n",
       "4  Cozy, Central Paris: WALK or VELIB EVERYWHERE !   \n",
       "\n",
       "                                             summary  \\\n",
       "0  Appartement très calme de 50M2 Utilisation de ...   \n",
       "1  Cozy, well-appointed and graciously designed s...   \n",
       "2          VERY CONVENIENT, WITH THE BEST LOCATION !   \n",
       "3  Very large & nice apartment all for you!  - Su...   \n",
       "4  Location! Location! Location! Just bring your ...   \n",
       "\n",
       "                                               space  \\\n",
       "0                   I bedroom appartment in Paris 14   \n",
       "1  Small, well appointed studio apartment at the ...   \n",
       "2  PLEASE ASK ME BEFORE TO MAKE A REQUEST !!! No ...   \n",
       "3  hello ! We have a great 75 square meter apartm...   \n",
       "4  Since I live in the USA, it is difficult to ma...   \n",
       "\n",
       "                                         description experiences_offered  \\\n",
       "0  I bedroom appartment in Paris 14 Good restaura...                none   \n",
       "1  Cozy, well-appointed and graciously designed s...                none   \n",
       "2  VERY CONVENIENT, WITH THE BEST LOCATION ! PLEA...                none   \n",
       "3  Very large & nice apartment all for you!  - Su...                none   \n",
       "4  Location! Location! Location! Just bring your ...                none   \n",
       "\n",
       "                               neighborhood_overview  ... instant_bookable  \\\n",
       "0  Good restaurants very close the Montparnasse S...  ...                f   \n",
       "1  You are within walking distance to the Louvre,...  ...                t   \n",
       "2                                                NaN  ...                f   \n",
       "3                                                NaN  ...                f   \n",
       "4                                                NaN  ...                f   \n",
       "\n",
       "  is_business_travel_ready          cancellation_policy  \\\n",
       "0                        f                     flexible   \n",
       "1                        f  strict_14_with_grace_period   \n",
       "2                        f                     moderate   \n",
       "3                        f  strict_14_with_grace_period   \n",
       "4                        f  strict_14_with_grace_period   \n",
       "\n",
       "  require_guest_profile_picture require_guest_phone_verification  \\\n",
       "0                             f                                f   \n",
       "1                             f                                f   \n",
       "2                             f                                f   \n",
       "3                             f                                f   \n",
       "4                             t                                t   \n",
       "\n",
       "   calculated_host_listings_count  \\\n",
       "0                               1   \n",
       "1                               1   \n",
       "2                               1   \n",
       "3                               1   \n",
       "4                               1   \n",
       "\n",
       "   calculated_host_listings_count_entire_homes  \\\n",
       "0                                            1   \n",
       "1                                            1   \n",
       "2                                            1   \n",
       "3                                            1   \n",
       "4                                            1   \n",
       "\n",
       "  calculated_host_listings_count_private_rooms  \\\n",
       "0                                            0   \n",
       "1                                            0   \n",
       "2                                            0   \n",
       "3                                            0   \n",
       "4                                            0   \n",
       "\n",
       "   calculated_host_listings_count_shared_rooms  reviews_per_month  \n",
       "0                                            0               0.24  \n",
       "1                                            0               1.63  \n",
       "2                                            0               2.47  \n",
       "3                                            0               0.05  \n",
       "4                                            0                NaN  \n",
       "\n",
       "[5 rows x 106 columns]"
      ]
     },
     "execution_count": 10,
     "metadata": {},
     "output_type": "execute_result"
    }
   ],
   "source": [
    "df_listings.head()"
   ]
  },
  {
   "cell_type": "code",
   "execution_count": 3,
   "metadata": {},
   "outputs": [],
   "source": [
    "def compute_distance(callback_map, g):\n",
    "    try:\n",
    "        arcgis.create_drive_time_areas({'spatialReference': {'latestWkid': 3857, 'wkid': 102100}, 'x': 257796.17643974972, 'y': 6247003.454824805})\n",
    "    except:\n",
    "        print('crash')"
   ]
  },
  {
   "cell_type": "code",
   "execution_count": 4,
   "metadata": {},
   "outputs": [],
   "source": [
    "def test_click(callback_map, g):\n",
    "    try:\n",
    "        print(g)\n",
    "    except:\n",
    "        print('notapoint')"
   ]
  },
  {
   "cell_type": "code",
   "execution_count": 11,
   "metadata": {},
   "outputs": [
    {
     "data": {
      "text/html": [
       "<div class=\"item_container\" style=\"height: auto; overflow: hidden; border: 1px solid #cfcfcf; border-radius: 2px; background: #f6fafa; line-height: 1.21429em; padding: 10px;\">\n",
       "                    <div class=\"item_left\" style=\"width: 210px; float: left;\">\n",
       "                       <a href='https://UCSDOnline.maps.arcgis.com/home/item.html?id=14afc76851064943b7fd61afd009db58' target='_blank'>\n",
       "                        <img src='data:image/png;base64,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' width='200' height='133' class=\"itemThumbnail\">\n",
       "                       </a>\n",
       "                    </div>\n",
       "\n",
       "                    <div class=\"item_right\"     style=\"float: none; width: auto; overflow: hidden;\">\n",
       "                        <a href='https://UCSDOnline.maps.arcgis.com/home/item.html?id=14afc76851064943b7fd61afd009db58' target='_blank'><b>airbnb_listings_restricted_v2</b>\n",
       "                        </a>\n",
       "                        <br/><img src='https://UCSDOnline.maps.arcgis.com/home/js/jsapi/esri/css/images/item_type_icons/featureshosted16.png' style=\"vertical-align:middle;\">Feature Layer Collection by nracelis_ucsd5\n",
       "                        <br/>Last Modified: March 12, 2020\n",
       "                        <br/>0 comments, 26 views\n",
       "                    </div>\n",
       "                </div>\n",
       "                "
      ],
      "text/plain": [
       "<Item title:\"airbnb_listings_restricted_v2\" type:Feature Layer Collection owner:nracelis_ucsd5>"
      ]
     },
     "execution_count": 11,
     "metadata": {},
     "output_type": "execute_result"
    }
   ],
   "source": [
    "callback_map = gis.map('Paris')\n",
    "airbnb = gis.content.get('14afc76851064943b7fd61afd009db58')\n",
    "airbnb"
   ]
  },
  {
   "cell_type": "code",
   "execution_count": 7,
   "metadata": {},
   "outputs": [
    {
     "data": {
      "application/vnd.jupyter.widget-view+json": {
       "model_id": "e1c511ae90214ce29df4d1d1b8e039de",
       "version_major": 2,
       "version_minor": 0
      },
      "text/plain": [
       "MapView(layout=Layout(height='400px', width='100%'))"
      ]
     },
     "metadata": {},
     "output_type": "display_data"
    },
    {
     "data": {
      "text/html": [
       "<div class=\"map-static-img-preview-4f0a9edf-2a23-4cd1-8d48-aefd5f47503a\"><img src=\"\"></img></div>"
      ],
      "text/plain": [
       "<IPython.core.display.HTML object>"
      ]
     },
     "metadata": {},
     "output_type": "display_data"
    },
    {
     "name": "stderr",
     "output_type": "stream",
     "text": [
      "Invalid value for parameter inputLayer - Details : Invalid JSON for GPFeatureRecordSetLayer or GPRecordSet datatype \n",
      "Failed.\n"
     ]
    },
    {
     "name": "stdout",
     "output_type": "stream",
     "text": [
      "crash\n"
     ]
    }
   ],
   "source": [
    "callback_map.add_layer(airbnb)\n",
    "callback_map.on_click(compute_distance)\n",
    "callback_map"
   ]
  },
  {
   "cell_type": "code",
   "execution_count": null,
   "metadata": {},
   "outputs": [],
   "source": []
  },
  {
   "cell_type": "code",
   "execution_count": 8,
   "metadata": {},
   "outputs": [
    {
     "ename": "NameError",
     "evalue": "name 'df_listings' is not defined",
     "output_type": "error",
     "traceback": [
      "\u001b[0;31m---------------------------------------------------------------------------\u001b[0m",
      "\u001b[0;31mNameError\u001b[0m                                 Traceback (most recent call last)",
      "\u001b[0;32m<ipython-input-8-533a040b3905>\u001b[0m in \u001b[0;36m<module>\u001b[0;34m\u001b[0m\n\u001b[1;32m      1\u001b[0m \u001b[0mzipcodes\u001b[0m \u001b[0;34m=\u001b[0m \u001b[0;34m[\u001b[0m\u001b[0;36m75003\u001b[0m\u001b[0;34m,\u001b[0m \u001b[0;36m75005\u001b[0m\u001b[0;34m,\u001b[0m \u001b[0;36m75007\u001b[0m\u001b[0;34m,\u001b[0m \u001b[0;36m75012\u001b[0m\u001b[0;34m,\u001b[0m \u001b[0;36m75014\u001b[0m\u001b[0;34m,\u001b[0m \u001b[0;36m75016\u001b[0m\u001b[0;34m,\u001b[0m \u001b[0;36m75018\u001b[0m\u001b[0;34m,\u001b[0m \u001b[0;36m75020\u001b[0m\u001b[0;34m]\u001b[0m\u001b[0;34m\u001b[0m\u001b[0;34m\u001b[0m\u001b[0m\n\u001b[0;32m----> 2\u001b[0;31m \u001b[0mdf_listings_restricted\u001b[0m \u001b[0;34m=\u001b[0m \u001b[0mdf_listings\u001b[0m\u001b[0;34m[\u001b[0m\u001b[0mdf_listings\u001b[0m\u001b[0;34m.\u001b[0m\u001b[0mzipcode\u001b[0m\u001b[0;34m.\u001b[0m\u001b[0misin\u001b[0m\u001b[0;34m(\u001b[0m\u001b[0mzipcodes\u001b[0m\u001b[0;34m)\u001b[0m\u001b[0;34m]\u001b[0m\u001b[0;34m\u001b[0m\u001b[0;34m\u001b[0m\u001b[0m\n\u001b[0m\u001b[1;32m      3\u001b[0m \u001b[0mdf_listings_restricted_samplesize\u001b[0m \u001b[0;34m=\u001b[0m \u001b[0mround\u001b[0m\u001b[0;34m(\u001b[0m\u001b[0mdf_listings_restricted\u001b[0m\u001b[0;34m.\u001b[0m\u001b[0mshape\u001b[0m\u001b[0;34m[\u001b[0m\u001b[0;36m0\u001b[0m\u001b[0;34m]\u001b[0m \u001b[0;34m*\u001b[0m \u001b[0;36m.20\u001b[0m\u001b[0;34m)\u001b[0m\u001b[0;34m\u001b[0m\u001b[0;34m\u001b[0m\u001b[0m\n\u001b[1;32m      4\u001b[0m \u001b[0mdf_listings_restricted_sample\u001b[0m \u001b[0;34m=\u001b[0m \u001b[0mdf_listings_restricted\u001b[0m\u001b[0;34m.\u001b[0m\u001b[0msample\u001b[0m\u001b[0;34m(\u001b[0m\u001b[0mdf_listings_restricted_samplesize\u001b[0m\u001b[0;34m,\u001b[0m \u001b[0mrandom_state\u001b[0m\u001b[0;34m=\u001b[0m \u001b[0;36m42\u001b[0m\u001b[0;34m)\u001b[0m\u001b[0;34m\u001b[0m\u001b[0;34m\u001b[0m\u001b[0m\n\u001b[1;32m      5\u001b[0m \u001b[0mdf_listings_restricted_sample\u001b[0m\u001b[0;34m.\u001b[0m\u001b[0mshape\u001b[0m\u001b[0;34m\u001b[0m\u001b[0;34m\u001b[0m\u001b[0m\n",
      "\u001b[0;31mNameError\u001b[0m: name 'df_listings' is not defined"
     ]
    }
   ],
   "source": [
    "zipcodes = [75003, 75005, 75007, 75012, 75014, 75016, 75018, 75020]\n",
    "df_listings_restricted = df_listings[df_listings.zipcode.isin(zipcodes)]\n",
    "df_listings_restricted_samplesize = round(df_listings_restricted.shape[0] * .20)\n",
    "df_listings_restricted_sample = df_listings_restricted.sample(df_listings_restricted_samplesize, random_state= 42)\n",
    "df_listings_restricted_sample.shape"
   ]
  },
  {
   "cell_type": "code",
   "execution_count": 11,
   "metadata": {},
   "outputs": [],
   "source": [
    "df_listings_restricted_sample.to_csv('airbnb_listings_restricted.csv')"
   ]
  },
  {
   "cell_type": "code",
   "execution_count": 12,
   "metadata": {},
   "outputs": [
    {
     "data": {
      "text/plain": [
       "1968"
      ]
     },
     "execution_count": 12,
     "metadata": {},
     "output_type": "execute_result"
    }
   ],
   "source": [
    "(df_listings.zipcode == 75018).sum()"
   ]
  },
  {
   "cell_type": "code",
   "execution_count": 13,
   "metadata": {},
   "outputs": [
    {
     "data": {
      "text/html": [
       "<div class=\"item_container\" style=\"height: auto; overflow: hidden; border: 1px solid #cfcfcf; border-radius: 2px; background: #f6fafa; line-height: 1.21429em; padding: 10px;\">\n",
       "                    <div class=\"item_left\" style=\"width: 210px; float: left;\">\n",
       "                       <a href='https://UCSDOnline.maps.arcgis.com/home/item.html?id=14afc76851064943b7fd61afd009db58' target='_blank'>\n",
       "                        <img src='data:image/png;base64,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' width='200' height='133' class=\"itemThumbnail\">\n",
       "                       </a>\n",
       "                    </div>\n",
       "\n",
       "                    <div class=\"item_right\"     style=\"float: none; width: auto; overflow: hidden;\">\n",
       "                        <a href='https://UCSDOnline.maps.arcgis.com/home/item.html?id=14afc76851064943b7fd61afd009db58' target='_blank'><b>airbnb_listings_restricted_v2</b>\n",
       "                        </a>\n",
       "                        <br/><img src='https://UCSDOnline.maps.arcgis.com/home/js/jsapi/esri/css/images/item_type_icons/featureshosted16.png' style=\"vertical-align:middle;\">Feature Layer Collection by nracelis_ucsd5\n",
       "                        <br/>Last Modified: March 12, 2020\n",
       "                        <br/>0 comments, 2 views\n",
       "                    </div>\n",
       "                </div>\n",
       "                "
      ],
      "text/plain": [
       "<Item title:\"airbnb_listings_restricted_v2\" type:Feature Layer Collection owner:nracelis_ucsd5>"
      ]
     },
     "execution_count": 13,
     "metadata": {},
     "output_type": "execute_result"
    }
   ],
   "source": [
    "gis.content.get('14afc76851064943b7fd61afd009db58')"
   ]
  },
  {
   "cell_type": "code",
   "execution_count": 115,
   "metadata": {},
   "outputs": [
    {
     "ename": "AttributeError",
     "evalue": "'GeoSeries' object has no attribute '_delete_index'",
     "output_type": "error",
     "traceback": [
      "\u001b[0;31m---------------------------------------------------------------------------\u001b[0m",
      "\u001b[0;31mAttributeError\u001b[0m                            Traceback (most recent call last)",
      "\u001b[0;32m<ipython-input-115-fa8940c0811a>\u001b[0m in \u001b[0;36m<module>\u001b[0;34m\u001b[0m\n\u001b[1;32m      1\u001b[0m \u001b[0mtest_point\u001b[0m \u001b[0;34m=\u001b[0m \u001b[0;34m{\u001b[0m\u001b[0;34m'spatialReference'\u001b[0m\u001b[0;34m:\u001b[0m \u001b[0;34m{\u001b[0m\u001b[0;34m'latestWkid'\u001b[0m\u001b[0;34m:\u001b[0m \u001b[0;36m3857\u001b[0m\u001b[0;34m,\u001b[0m \u001b[0;34m'wkid'\u001b[0m\u001b[0;34m:\u001b[0m \u001b[0;36m102100\u001b[0m\u001b[0;34m}\u001b[0m\u001b[0;34m,\u001b[0m \u001b[0;34m'x'\u001b[0m\u001b[0;34m:\u001b[0m \u001b[0;36m257796.17643974972\u001b[0m\u001b[0;34m,\u001b[0m \u001b[0;34m'y'\u001b[0m\u001b[0;34m:\u001b[0m \u001b[0;36m6247003.454824805\u001b[0m\u001b[0;34m}\u001b[0m\u001b[0;34m\u001b[0m\u001b[0;34m\u001b[0m\u001b[0m\n\u001b[1;32m      2\u001b[0m \u001b[0mdf_test\u001b[0m \u001b[0;34m=\u001b[0m \u001b[0mSpatialDataFrame\u001b[0m\u001b[0;34m.\u001b[0m\u001b[0mfrom_dict\u001b[0m\u001b[0;34m(\u001b[0m\u001b[0mtest_point\u001b[0m\u001b[0;34m)\u001b[0m\u001b[0;34m.\u001b[0m\u001b[0miloc\u001b[0m\u001b[0;34m[\u001b[0m\u001b[0;34m[\u001b[0m\u001b[0;36m0\u001b[0m\u001b[0;34m]\u001b[0m\u001b[0;34m]\u001b[0m\u001b[0;34m\u001b[0m\u001b[0;34m\u001b[0m\u001b[0m\n\u001b[0;32m----> 3\u001b[0;31m \u001b[0mSpatialDataFrame\u001b[0m\u001b[0;34m.\u001b[0m\u001b[0mfrom_xy\u001b[0m\u001b[0;34m(\u001b[0m\u001b[0mdf_test\u001b[0m\u001b[0;34m,\u001b[0m \u001b[0mx_column\u001b[0m\u001b[0;34m=\u001b[0m\u001b[0;34m'x'\u001b[0m\u001b[0;34m,\u001b[0m \u001b[0my_column\u001b[0m\u001b[0;34m=\u001b[0m\u001b[0;34m'y'\u001b[0m\u001b[0;34m)\u001b[0m\u001b[0;34m\u001b[0m\u001b[0;34m\u001b[0m\u001b[0m\n\u001b[0m",
      "\u001b[0;32m/opt/conda/lib/python3.7/site-packages/arcgis/features/_data/geodataset/geodataframe.py\u001b[0m in \u001b[0;36mfrom_xy\u001b[0;34m(df, x_column, y_column, sr)\u001b[0m\n\u001b[1;32m   1260\u001b[0m         \u001b[0;32mfrom\u001b[0m \u001b[0;34m.\u001b[0m\u001b[0mio\u001b[0m\u001b[0;34m.\u001b[0m\u001b[0mfileops\u001b[0m \u001b[0;32mimport\u001b[0m \u001b[0m_from_xy\u001b[0m\u001b[0;34m\u001b[0m\u001b[0;34m\u001b[0m\u001b[0m\n\u001b[1;32m   1261\u001b[0m         return _from_xy(df=df, x_column=x_column,\n\u001b[0;32m-> 1262\u001b[0;31m                         y_column=y_column, sr=sr)\n\u001b[0m\u001b[1;32m   1263\u001b[0m     \u001b[0;31m# ----------------------------------------------------------------------\u001b[0m\u001b[0;34m\u001b[0m\u001b[0;34m\u001b[0m\u001b[0;34m\u001b[0m\u001b[0m\n\u001b[1;32m   1264\u001b[0m     \u001b[0;34m@\u001b[0m\u001b[0mstaticmethod\u001b[0m\u001b[0;34m\u001b[0m\u001b[0;34m\u001b[0m\u001b[0m\n",
      "\u001b[0;32m/opt/conda/lib/python3.7/site-packages/arcgis/features/_data/geodataset/io/fileops.py\u001b[0m in \u001b[0;36m_from_xy\u001b[0;34m(df, x_column, y_column, sr)\u001b[0m\n\u001b[1;32m     59\u001b[0m         )\n\u001b[1;32m     60\u001b[0m     \u001b[0mdf\u001b[0m\u001b[0;34m[\u001b[0m\u001b[0;34m'SHAPE'\u001b[0m\u001b[0;34m]\u001b[0m \u001b[0;34m=\u001b[0m \u001b[0mgeoms\u001b[0m\u001b[0;34m\u001b[0m\u001b[0;34m\u001b[0m\u001b[0m\n\u001b[0;32m---> 61\u001b[0;31m     \u001b[0;32mreturn\u001b[0m \u001b[0mSpatialDataFrame\u001b[0m\u001b[0;34m(\u001b[0m\u001b[0mdata\u001b[0m\u001b[0;34m=\u001b[0m\u001b[0mdf\u001b[0m\u001b[0;34m,\u001b[0m \u001b[0msr\u001b[0m\u001b[0;34m=\u001b[0m\u001b[0msr\u001b[0m\u001b[0;34m)\u001b[0m\u001b[0;34m\u001b[0m\u001b[0;34m\u001b[0m\u001b[0m\n\u001b[0m\u001b[1;32m     62\u001b[0m \u001b[0;34m\u001b[0m\u001b[0m\n\u001b[1;32m     63\u001b[0m \u001b[0;32mdef\u001b[0m \u001b[0m_pyshp_to_shapefile\u001b[0m\u001b[0;34m(\u001b[0m\u001b[0mdf\u001b[0m\u001b[0;34m,\u001b[0m \u001b[0mout_path\u001b[0m\u001b[0;34m,\u001b[0m \u001b[0mout_name\u001b[0m\u001b[0;34m)\u001b[0m\u001b[0;34m:\u001b[0m\u001b[0;34m\u001b[0m\u001b[0;34m\u001b[0m\u001b[0m\n",
      "\u001b[0;32m/opt/conda/lib/python3.7/site-packages/arcgis/features/_data/geodataset/geodataframe.py\u001b[0m in \u001b[0;36m__init__\u001b[0;34m(self, *args, **kwargs)\u001b[0m\n\u001b[1;32m    247\u001b[0m             \u001b[0mself\u001b[0m\u001b[0;34m.\u001b[0m\u001b[0mset_geometry\u001b[0m\u001b[0;34m(\u001b[0m\u001b[0mgeometry\u001b[0m\u001b[0;34m,\u001b[0m \u001b[0minplace\u001b[0m\u001b[0;34m=\u001b[0m\u001b[0;32mTrue\u001b[0m\u001b[0;34m)\u001b[0m\u001b[0;34m\u001b[0m\u001b[0;34m\u001b[0m\u001b[0m\n\u001b[1;32m    248\u001b[0m         \u001b[0;32melif\u001b[0m \u001b[0;34m'SHAPE'\u001b[0m \u001b[0;32min\u001b[0m \u001b[0mself\u001b[0m\u001b[0;34m.\u001b[0m\u001b[0mcolumns\u001b[0m\u001b[0;34m:\u001b[0m\u001b[0;34m\u001b[0m\u001b[0;34m\u001b[0m\u001b[0m\n\u001b[0;32m--> 249\u001b[0;31m             \u001b[0;32mif\u001b[0m \u001b[0misinstance\u001b[0m\u001b[0;34m(\u001b[0m\u001b[0mself\u001b[0m\u001b[0;34m[\u001b[0m\u001b[0;34m'SHAPE'\u001b[0m\u001b[0;34m]\u001b[0m\u001b[0;34m,\u001b[0m \u001b[0;34m(\u001b[0m\u001b[0mGeoSeries\u001b[0m\u001b[0;34m,\u001b[0m \u001b[0mpd\u001b[0m\u001b[0;34m.\u001b[0m\u001b[0mSeries\u001b[0m\u001b[0;34m)\u001b[0m\u001b[0;34m)\u001b[0m \u001b[0;32mand\u001b[0m \u001b[0mself\u001b[0m\u001b[0;34m[\u001b[0m\u001b[0;34m'SHAPE'\u001b[0m\u001b[0;34m]\u001b[0m\u001b[0;34m.\u001b[0m\u001b[0mdtype\u001b[0m\u001b[0;34m.\u001b[0m\u001b[0mname\u001b[0m \u001b[0;34m==\u001b[0m \u001b[0;34m'object'\u001b[0m\u001b[0;34m:\u001b[0m\u001b[0;34m\u001b[0m\u001b[0;34m\u001b[0m\u001b[0m\n\u001b[0m\u001b[1;32m    250\u001b[0m                 \u001b[0;32mif\u001b[0m \u001b[0mall\u001b[0m\u001b[0;34m(\u001b[0m\u001b[0misinstance\u001b[0m\u001b[0;34m(\u001b[0m\u001b[0mx\u001b[0m\u001b[0;34m,\u001b[0m \u001b[0m_types\u001b[0m\u001b[0;34m.\u001b[0m\u001b[0mGeometry\u001b[0m\u001b[0;34m)\u001b[0m \u001b[0;32mfor\u001b[0m \u001b[0mx\u001b[0m \u001b[0;32min\u001b[0m \u001b[0mself\u001b[0m\u001b[0;34m[\u001b[0m\u001b[0mself\u001b[0m\u001b[0;34m.\u001b[0m\u001b[0m_geometry_column_name\u001b[0m\u001b[0;34m]\u001b[0m\u001b[0;34m)\u001b[0m \u001b[0;34m==\u001b[0m \u001b[0;32mFalse\u001b[0m\u001b[0;34m:\u001b[0m\u001b[0;34m\u001b[0m\u001b[0;34m\u001b[0m\u001b[0m\n\u001b[1;32m    251\u001b[0m                     \u001b[0mgeometry\u001b[0m \u001b[0;34m=\u001b[0m \u001b[0;34m[\u001b[0m\u001b[0m_types\u001b[0m\u001b[0;34m.\u001b[0m\u001b[0mGeometry\u001b[0m\u001b[0;34m(\u001b[0m\u001b[0mg\u001b[0m\u001b[0;34m)\u001b[0m \u001b[0;32mfor\u001b[0m \u001b[0mg\u001b[0m \u001b[0;32min\u001b[0m \u001b[0mself\u001b[0m\u001b[0;34m[\u001b[0m\u001b[0;34m'SHAPE'\u001b[0m\u001b[0;34m]\u001b[0m\u001b[0;34m.\u001b[0m\u001b[0mtolist\u001b[0m\u001b[0;34m(\u001b[0m\u001b[0;34m)\u001b[0m\u001b[0;34m]\u001b[0m\u001b[0;34m\u001b[0m\u001b[0;34m\u001b[0m\u001b[0m\n",
      "\u001b[0;32m/opt/conda/lib/python3.7/site-packages/arcgis/features/_data/geodataset/geodataframe.py\u001b[0m in \u001b[0;36m__getitem__\u001b[0;34m(self, key)\u001b[0m\n\u001b[1;32m   1899\u001b[0m             \u001b[0mresult\u001b[0m\u001b[0;34m.\u001b[0m\u001b[0m__class__\u001b[0m \u001b[0;34m=\u001b[0m \u001b[0mGeoSeries\u001b[0m\u001b[0;34m\u001b[0m\u001b[0;34m\u001b[0m\u001b[0m\n\u001b[1;32m   1900\u001b[0m             \u001b[0mresult\u001b[0m\u001b[0;34m.\u001b[0m\u001b[0msr\u001b[0m \u001b[0;34m=\u001b[0m \u001b[0mself\u001b[0m\u001b[0;34m.\u001b[0m\u001b[0msr\u001b[0m\u001b[0;34m\u001b[0m\u001b[0;34m\u001b[0m\u001b[0m\n\u001b[0;32m-> 1901\u001b[0;31m             \u001b[0mresult\u001b[0m\u001b[0;34m.\u001b[0m\u001b[0m_delete_index\u001b[0m\u001b[0;34m(\u001b[0m\u001b[0;34m)\u001b[0m\u001b[0;34m\u001b[0m\u001b[0;34m\u001b[0m\u001b[0m\n\u001b[0m\u001b[1;32m   1902\u001b[0m         \u001b[0;32melif\u001b[0m \u001b[0misinstance\u001b[0m\u001b[0;34m(\u001b[0m\u001b[0mresult\u001b[0m\u001b[0;34m,\u001b[0m \u001b[0mDataFrame\u001b[0m\u001b[0;34m)\u001b[0m \u001b[0;32mand\u001b[0m \u001b[0mgeo_col\u001b[0m \u001b[0;32min\u001b[0m \u001b[0mresult\u001b[0m\u001b[0;34m:\u001b[0m\u001b[0;34m\u001b[0m\u001b[0;34m\u001b[0m\u001b[0m\n\u001b[1;32m   1903\u001b[0m             \u001b[0mresult\u001b[0m\u001b[0;34m.\u001b[0m\u001b[0m__class__\u001b[0m \u001b[0;34m=\u001b[0m \u001b[0mSpatialDataFrame\u001b[0m\u001b[0;34m\u001b[0m\u001b[0;34m\u001b[0m\u001b[0m\n",
      "\u001b[0;31mAttributeError\u001b[0m: 'GeoSeries' object has no attribute '_delete_index'"
     ]
    }
   ],
   "source": [
    "test_point = {'spatialReference': {'latestWkid': 3857, 'wkid': 102100}, 'x': 257796.17643974972, 'y': 6247003.454824805}\n",
    "df_test = SpatialDataFrame.from_dict(test_point).iloc[[0]]\n",
    "SpatialDataFrame.from_xy(df_test, x_column='x', y_column='y')"
   ]
  },
  {
   "cell_type": "code",
   "execution_count": 110,
   "metadata": {},
   "outputs": [
    {
     "ename": "AttributeError",
     "evalue": "'GeoSeries' object has no attribute '_delete_index'",
     "output_type": "error",
     "traceback": [
      "\u001b[0;31m---------------------------------------------------------------------------\u001b[0m",
      "\u001b[0;31mAttributeError\u001b[0m                            Traceback (most recent call last)",
      "\u001b[0;32m<ipython-input-110-431f18864e7a>\u001b[0m in \u001b[0;36m<module>\u001b[0;34m\u001b[0m\n\u001b[0;32m----> 1\u001b[0;31m \u001b[0msdf_test\u001b[0m \u001b[0;34m=\u001b[0m \u001b[0mSpatialDataFrame\u001b[0m\u001b[0;34m.\u001b[0m\u001b[0mfrom_xy\u001b[0m\u001b[0;34m(\u001b[0m\u001b[0mdf_test\u001b[0m\u001b[0;34m,\u001b[0m \u001b[0mx_column\u001b[0m \u001b[0;34m=\u001b[0m \u001b[0;34m'x'\u001b[0m\u001b[0;34m,\u001b[0m \u001b[0my_column\u001b[0m \u001b[0;34m=\u001b[0m \u001b[0;34m'y'\u001b[0m\u001b[0;34m,\u001b[0m \u001b[0msr\u001b[0m\u001b[0;34m=\u001b[0m\u001b[0;36m3857\u001b[0m\u001b[0;34m)\u001b[0m\u001b[0;34m\u001b[0m\u001b[0;34m\u001b[0m\u001b[0m\n\u001b[0m\u001b[1;32m      2\u001b[0m \u001b[0msdf_test\u001b[0m\u001b[0;34m.\u001b[0m\u001b[0mspatial\u001b[0m\u001b[0;34m.\u001b[0m\u001b[0mset_geometry\u001b[0m \u001b[0;34m=\u001b[0m \u001b[0;34m'SHAPE'\u001b[0m\u001b[0;34m\u001b[0m\u001b[0;34m\u001b[0m\u001b[0m\n\u001b[1;32m      3\u001b[0m \u001b[0mtype\u001b[0m\u001b[0;34m(\u001b[0m\u001b[0msdf_test\u001b[0m\u001b[0;34m)\u001b[0m\u001b[0;34m\u001b[0m\u001b[0;34m\u001b[0m\u001b[0m\n",
      "\u001b[0;32m/opt/conda/lib/python3.7/site-packages/arcgis/features/_data/geodataset/geodataframe.py\u001b[0m in \u001b[0;36mfrom_xy\u001b[0;34m(df, x_column, y_column, sr)\u001b[0m\n\u001b[1;32m   1260\u001b[0m         \u001b[0;32mfrom\u001b[0m \u001b[0;34m.\u001b[0m\u001b[0mio\u001b[0m\u001b[0;34m.\u001b[0m\u001b[0mfileops\u001b[0m \u001b[0;32mimport\u001b[0m \u001b[0m_from_xy\u001b[0m\u001b[0;34m\u001b[0m\u001b[0;34m\u001b[0m\u001b[0m\n\u001b[1;32m   1261\u001b[0m         return _from_xy(df=df, x_column=x_column,\n\u001b[0;32m-> 1262\u001b[0;31m                         y_column=y_column, sr=sr)\n\u001b[0m\u001b[1;32m   1263\u001b[0m     \u001b[0;31m# ----------------------------------------------------------------------\u001b[0m\u001b[0;34m\u001b[0m\u001b[0;34m\u001b[0m\u001b[0;34m\u001b[0m\u001b[0m\n\u001b[1;32m   1264\u001b[0m     \u001b[0;34m@\u001b[0m\u001b[0mstaticmethod\u001b[0m\u001b[0;34m\u001b[0m\u001b[0;34m\u001b[0m\u001b[0m\n",
      "\u001b[0;32m/opt/conda/lib/python3.7/site-packages/arcgis/features/_data/geodataset/io/fileops.py\u001b[0m in \u001b[0;36m_from_xy\u001b[0;34m(df, x_column, y_column, sr)\u001b[0m\n\u001b[1;32m     59\u001b[0m         )\n\u001b[1;32m     60\u001b[0m     \u001b[0mdf\u001b[0m\u001b[0;34m[\u001b[0m\u001b[0;34m'SHAPE'\u001b[0m\u001b[0;34m]\u001b[0m \u001b[0;34m=\u001b[0m \u001b[0mgeoms\u001b[0m\u001b[0;34m\u001b[0m\u001b[0;34m\u001b[0m\u001b[0m\n\u001b[0;32m---> 61\u001b[0;31m     \u001b[0;32mreturn\u001b[0m \u001b[0mSpatialDataFrame\u001b[0m\u001b[0;34m(\u001b[0m\u001b[0mdata\u001b[0m\u001b[0;34m=\u001b[0m\u001b[0mdf\u001b[0m\u001b[0;34m,\u001b[0m \u001b[0msr\u001b[0m\u001b[0;34m=\u001b[0m\u001b[0msr\u001b[0m\u001b[0;34m)\u001b[0m\u001b[0;34m\u001b[0m\u001b[0;34m\u001b[0m\u001b[0m\n\u001b[0m\u001b[1;32m     62\u001b[0m \u001b[0;34m\u001b[0m\u001b[0m\n\u001b[1;32m     63\u001b[0m \u001b[0;32mdef\u001b[0m \u001b[0m_pyshp_to_shapefile\u001b[0m\u001b[0;34m(\u001b[0m\u001b[0mdf\u001b[0m\u001b[0;34m,\u001b[0m \u001b[0mout_path\u001b[0m\u001b[0;34m,\u001b[0m \u001b[0mout_name\u001b[0m\u001b[0;34m)\u001b[0m\u001b[0;34m:\u001b[0m\u001b[0;34m\u001b[0m\u001b[0;34m\u001b[0m\u001b[0m\n",
      "\u001b[0;32m/opt/conda/lib/python3.7/site-packages/arcgis/features/_data/geodataset/geodataframe.py\u001b[0m in \u001b[0;36m__init__\u001b[0;34m(self, *args, **kwargs)\u001b[0m\n\u001b[1;32m    247\u001b[0m             \u001b[0mself\u001b[0m\u001b[0;34m.\u001b[0m\u001b[0mset_geometry\u001b[0m\u001b[0;34m(\u001b[0m\u001b[0mgeometry\u001b[0m\u001b[0;34m,\u001b[0m \u001b[0minplace\u001b[0m\u001b[0;34m=\u001b[0m\u001b[0;32mTrue\u001b[0m\u001b[0;34m)\u001b[0m\u001b[0;34m\u001b[0m\u001b[0;34m\u001b[0m\u001b[0m\n\u001b[1;32m    248\u001b[0m         \u001b[0;32melif\u001b[0m \u001b[0;34m'SHAPE'\u001b[0m \u001b[0;32min\u001b[0m \u001b[0mself\u001b[0m\u001b[0;34m.\u001b[0m\u001b[0mcolumns\u001b[0m\u001b[0;34m:\u001b[0m\u001b[0;34m\u001b[0m\u001b[0;34m\u001b[0m\u001b[0m\n\u001b[0;32m--> 249\u001b[0;31m             \u001b[0;32mif\u001b[0m \u001b[0misinstance\u001b[0m\u001b[0;34m(\u001b[0m\u001b[0mself\u001b[0m\u001b[0;34m[\u001b[0m\u001b[0;34m'SHAPE'\u001b[0m\u001b[0;34m]\u001b[0m\u001b[0;34m,\u001b[0m \u001b[0;34m(\u001b[0m\u001b[0mGeoSeries\u001b[0m\u001b[0;34m,\u001b[0m \u001b[0mpd\u001b[0m\u001b[0;34m.\u001b[0m\u001b[0mSeries\u001b[0m\u001b[0;34m)\u001b[0m\u001b[0;34m)\u001b[0m \u001b[0;32mand\u001b[0m \u001b[0mself\u001b[0m\u001b[0;34m[\u001b[0m\u001b[0;34m'SHAPE'\u001b[0m\u001b[0;34m]\u001b[0m\u001b[0;34m.\u001b[0m\u001b[0mdtype\u001b[0m\u001b[0;34m.\u001b[0m\u001b[0mname\u001b[0m \u001b[0;34m==\u001b[0m \u001b[0;34m'object'\u001b[0m\u001b[0;34m:\u001b[0m\u001b[0;34m\u001b[0m\u001b[0;34m\u001b[0m\u001b[0m\n\u001b[0m\u001b[1;32m    250\u001b[0m                 \u001b[0;32mif\u001b[0m \u001b[0mall\u001b[0m\u001b[0;34m(\u001b[0m\u001b[0misinstance\u001b[0m\u001b[0;34m(\u001b[0m\u001b[0mx\u001b[0m\u001b[0;34m,\u001b[0m \u001b[0m_types\u001b[0m\u001b[0;34m.\u001b[0m\u001b[0mGeometry\u001b[0m\u001b[0;34m)\u001b[0m \u001b[0;32mfor\u001b[0m \u001b[0mx\u001b[0m \u001b[0;32min\u001b[0m \u001b[0mself\u001b[0m\u001b[0;34m[\u001b[0m\u001b[0mself\u001b[0m\u001b[0;34m.\u001b[0m\u001b[0m_geometry_column_name\u001b[0m\u001b[0;34m]\u001b[0m\u001b[0;34m)\u001b[0m \u001b[0;34m==\u001b[0m \u001b[0;32mFalse\u001b[0m\u001b[0;34m:\u001b[0m\u001b[0;34m\u001b[0m\u001b[0;34m\u001b[0m\u001b[0m\n\u001b[1;32m    251\u001b[0m                     \u001b[0mgeometry\u001b[0m \u001b[0;34m=\u001b[0m \u001b[0;34m[\u001b[0m\u001b[0m_types\u001b[0m\u001b[0;34m.\u001b[0m\u001b[0mGeometry\u001b[0m\u001b[0;34m(\u001b[0m\u001b[0mg\u001b[0m\u001b[0;34m)\u001b[0m \u001b[0;32mfor\u001b[0m \u001b[0mg\u001b[0m \u001b[0;32min\u001b[0m \u001b[0mself\u001b[0m\u001b[0;34m[\u001b[0m\u001b[0;34m'SHAPE'\u001b[0m\u001b[0;34m]\u001b[0m\u001b[0;34m.\u001b[0m\u001b[0mtolist\u001b[0m\u001b[0;34m(\u001b[0m\u001b[0;34m)\u001b[0m\u001b[0;34m]\u001b[0m\u001b[0;34m\u001b[0m\u001b[0;34m\u001b[0m\u001b[0m\n",
      "\u001b[0;32m/opt/conda/lib/python3.7/site-packages/arcgis/features/_data/geodataset/geodataframe.py\u001b[0m in \u001b[0;36m__getitem__\u001b[0;34m(self, key)\u001b[0m\n\u001b[1;32m   1899\u001b[0m             \u001b[0mresult\u001b[0m\u001b[0;34m.\u001b[0m\u001b[0m__class__\u001b[0m \u001b[0;34m=\u001b[0m \u001b[0mGeoSeries\u001b[0m\u001b[0;34m\u001b[0m\u001b[0;34m\u001b[0m\u001b[0m\n\u001b[1;32m   1900\u001b[0m             \u001b[0mresult\u001b[0m\u001b[0;34m.\u001b[0m\u001b[0msr\u001b[0m \u001b[0;34m=\u001b[0m \u001b[0mself\u001b[0m\u001b[0;34m.\u001b[0m\u001b[0msr\u001b[0m\u001b[0;34m\u001b[0m\u001b[0;34m\u001b[0m\u001b[0m\n\u001b[0;32m-> 1901\u001b[0;31m             \u001b[0mresult\u001b[0m\u001b[0;34m.\u001b[0m\u001b[0m_delete_index\u001b[0m\u001b[0;34m(\u001b[0m\u001b[0;34m)\u001b[0m\u001b[0;34m\u001b[0m\u001b[0;34m\u001b[0m\u001b[0m\n\u001b[0m\u001b[1;32m   1902\u001b[0m         \u001b[0;32melif\u001b[0m \u001b[0misinstance\u001b[0m\u001b[0;34m(\u001b[0m\u001b[0mresult\u001b[0m\u001b[0;34m,\u001b[0m \u001b[0mDataFrame\u001b[0m\u001b[0;34m)\u001b[0m \u001b[0;32mand\u001b[0m \u001b[0mgeo_col\u001b[0m \u001b[0;32min\u001b[0m \u001b[0mresult\u001b[0m\u001b[0;34m:\u001b[0m\u001b[0;34m\u001b[0m\u001b[0;34m\u001b[0m\u001b[0m\n\u001b[1;32m   1903\u001b[0m             \u001b[0mresult\u001b[0m\u001b[0;34m.\u001b[0m\u001b[0m__class__\u001b[0m \u001b[0;34m=\u001b[0m \u001b[0mSpatialDataFrame\u001b[0m\u001b[0;34m\u001b[0m\u001b[0;34m\u001b[0m\u001b[0m\n",
      "\u001b[0;31mAttributeError\u001b[0m: 'GeoSeries' object has no attribute '_delete_index'"
     ]
    }
   ],
   "source": [
    "sdf_test = SpatialDataFrame.from_xy(df_test, x_column = 'x', y_column = 'y', sr=3857)\n",
    "sdf_test.spatial.set_geometry = 'SHAPE'\n",
    "type(sdf_test)"
   ]
  },
  {
   "cell_type": "code",
   "execution_count": 63,
   "metadata": {},
   "outputs": [
    {
     "data": {
      "text/plain": [
       "<FeatureSet> 1 features"
      ]
     },
     "execution_count": 63,
     "metadata": {},
     "output_type": "execute_result"
    }
   ],
   "source": [
    "flayer_test = sdf_test.spatial.to_featurelayer('sdf_test_flayer').query()\n",
    "flayer_test"
   ]
  },
  {
   "cell_type": "code",
   "execution_count": 107,
   "metadata": {},
   "outputs": [
    {
     "data": {
      "text/html": [
       "<div>\n",
       "<style scoped>\n",
       "    .dataframe tbody tr th:only-of-type {\n",
       "        vertical-align: middle;\n",
       "    }\n",
       "\n",
       "    .dataframe tbody tr th {\n",
       "        vertical-align: top;\n",
       "    }\n",
       "\n",
       "    .dataframe thead th {\n",
       "        text-align: right;\n",
       "    }\n",
       "</style>\n",
       "<table border=\"1\" class=\"dataframe\">\n",
       "  <thead>\n",
       "    <tr style=\"text-align: right;\">\n",
       "      <th></th>\n",
       "      <th>spatialReference</th>\n",
       "      <th>x</th>\n",
       "      <th>y</th>\n",
       "    </tr>\n",
       "  </thead>\n",
       "  <tbody>\n",
       "    <tr>\n",
       "      <th>latestWkid</th>\n",
       "      <td>3857</td>\n",
       "      <td>257796.17644</td>\n",
       "      <td>6.247003e+06</td>\n",
       "    </tr>\n",
       "    <tr>\n",
       "      <th>wkid</th>\n",
       "      <td>102100</td>\n",
       "      <td>257796.17644</td>\n",
       "      <td>6.247003e+06</td>\n",
       "    </tr>\n",
       "  </tbody>\n",
       "</table>\n",
       "</div>"
      ],
      "text/plain": [
       "            spatialReference             x             y\n",
       "latestWkid              3857  257796.17644  6.247003e+06\n",
       "wkid                  102100  257796.17644  6.247003e+06"
      ]
     },
     "execution_count": 107,
     "metadata": {},
     "output_type": "execute_result"
    }
   ],
   "source": [
    "sdf_newtest = SpatialDataFrame.from_dict(test_point)\n",
    "sdf_newtest.reproject(4326)\n",
    "sdf_newtest"
   ]
  },
  {
   "cell_type": "code",
   "execution_count": 39,
   "metadata": {},
   "outputs": [
    {
     "data": {
      "text/plain": [
       "{\"attributes\": {\"spatialReference\": 3857, \"x\": 257796.17643975, \"y\": 6247003.45482481, \"SHAPE\": \"\\\"{'x': 257796.17643974972\", \"ObjectId\": 1}}"
      ]
     },
     "execution_count": 39,
     "metadata": {},
     "output_type": "execute_result"
    }
   ],
   "source": [
    "flayer_test.features[0]"
   ]
  },
  {
   "cell_type": "code",
   "execution_count": 18,
   "metadata": {},
   "outputs": [
    {
     "data": {
      "application/vnd.jupyter.widget-view+json": {
       "model_id": "f2f6eafb755d4a3db8a1ecb7ca2c7310",
       "version_major": 2,
       "version_minor": 0
      },
      "text/plain": [
       "MapView(layout=Layout(height='400px', width='100%'))"
      ]
     },
     "metadata": {},
     "output_type": "display_data"
    },
    {
     "data": {
      "text/html": [
       "<div class=\"map-static-img-preview-80090c7e-5998-4d16-ae69-b57acf48025e\"><img src=\"\"></img></div>"
      ],
      "text/plain": [
       "<IPython.core.display.HTML object>"
      ]
     },
     "metadata": {},
     "output_type": "display_data"
    }
   ],
   "source": [
    "test_map = gis.map('Paris')\n",
    "test_map.add_layer(flayer_test)\n",
    "test_map"
   ]
  },
  {
   "cell_type": "code",
   "execution_count": 52,
   "metadata": {},
   "outputs": [
    {
     "ename": "TypeError",
     "evalue": "reproject() missing 2 required positional arguments: 'self' and 'spatial_reference'",
     "output_type": "error",
     "traceback": [
      "\u001b[0;31m---------------------------------------------------------------------------\u001b[0m",
      "\u001b[0;31mTypeError\u001b[0m                                 Traceback (most recent call last)",
      "\u001b[0;32m<ipython-input-52-88632eb7fa5a>\u001b[0m in \u001b[0;36m<module>\u001b[0;34m\u001b[0m\n\u001b[1;32m      2\u001b[0m \u001b[0;31m#    fset.features[0].as_dict, [5], travel_mode='Walking'\u001b[0m\u001b[0;34m\u001b[0m\u001b[0;34m\u001b[0m\u001b[0;34m\u001b[0m\u001b[0m\n\u001b[1;32m      3\u001b[0m \u001b[0;31m#)\u001b[0m\u001b[0;34m\u001b[0m\u001b[0;34m\u001b[0m\u001b[0;34m\u001b[0m\u001b[0m\n\u001b[0;32m----> 4\u001b[0;31m \u001b[0mSpatialDataFrame\u001b[0m\u001b[0;34m.\u001b[0m\u001b[0mreproject\u001b[0m\u001b[0;34m(\u001b[0m\u001b[0;34m)\u001b[0m\u001b[0;34m\u001b[0m\u001b[0;34m\u001b[0m\u001b[0m\n\u001b[0m",
      "\u001b[0;31mTypeError\u001b[0m: reproject() missing 2 required positional arguments: 'self' and 'spatial_reference'"
     ]
    }
   ],
   "source": [
    "#arcgis.create_drive_time_areas(\n",
    "#    fset.features[0].as_dict, [5], travel_mode='Walking'\n",
    "#)\n",
    "SpatialDataFrame.reproject()"
   ]
  },
  {
   "cell_type": "code",
   "execution_count": 20,
   "metadata": {},
   "outputs": [],
   "source": [
    "tourist_flayer = gis.content.get('8ce9d7f23e084aedbc2466b6832fbb98')"
   ]
  },
  {
   "cell_type": "code",
   "execution_count": 21,
   "metadata": {},
   "outputs": [
    {
     "data": {
      "text/plain": [
       "{'features': [{'geometry': {'x': 255618.99486667092, 'y': 6249519.261326158},\n",
       "   'attributes': {'Name': 'Centre George Pompidou',\n",
       "    'Latitude': 48.8504227,\n",
       "    'Longitude': 2.2962645,\n",
       "    'Label': 'Museum',\n",
       "    'Sub_label': 'Tourist1',\n",
       "    'ObjectId': 1}},\n",
       "  {'geometry': {'x': 265576.1225679624, 'y': 6257165.140586452},\n",
       "   'attributes': {'Name': \"Cité des sciences et de l'industrie\",\n",
       "    'Latitude': 48.8955983,\n",
       "    'Longitude': 2.3857109,\n",
       "    'Label': 'Museum',\n",
       "    'Sub_label': 'Tourist3',\n",
       "    'ObjectId': 2}},\n",
       "  {'geometry': {'x': 255238.4714512923, 'y': 6268562.827525429},\n",
       "   'attributes': {'Name': 'Louvres',\n",
       "    'Latitude': 48.9628657,\n",
       "    'Longitude': 2.2928462,\n",
       "    'Label': 'Museum',\n",
       "    'Sub_label': 'Tourist1',\n",
       "    'ObjectId': 3}},\n",
       "  {'geometry': {'x': 261962.54718147469, 'y': 6252263.077023849},\n",
       "   'attributes': {'Name': 'Musée des arts et métiers',\n",
       "    'Latitude': 48.8666392,\n",
       "    'Longitude': 2.3532496,\n",
       "    'Label': 'Museum',\n",
       "    'Sub_label': 'Tourist3',\n",
       "    'ObjectId': 4}},\n",
       "  {'geometry': {'x': 258747.98537778645, 'y': 6251133.092235417},\n",
       "   'attributes': {'Name': \"Musée d'Orsay\",\n",
       "    'Latitude': 48.8599614,\n",
       "    'Longitude': 2.3243727,\n",
       "    'Label': 'Museum',\n",
       "    'Sub_label': 'Tourist2',\n",
       "    'ObjectId': 5}},\n",
       "  {'geometry': {'x': 240502.28669075476, 'y': 6247723.6612468995},\n",
       "   'attributes': {'Name': \"Musée national d'histoire naturelle\",\n",
       "    'Latitude': 48.8398075,\n",
       "    'Longitude': 2.1604688,\n",
       "    'Label': 'Museum',\n",
       "    'Sub_label': 'Tourist2',\n",
       "    'ObjectId': 6}},\n",
       "  {'geometry': {'x': 265838.88109403086, 'y': 6256868.929611952},\n",
       "   'attributes': {'Name': 'Parc de la villette',\n",
       "    'Latitude': 48.8938489,\n",
       "    'Longitude': 2.3880713,\n",
       "    'Label': 'Museum',\n",
       "    'Sub_label': 'Tourist2',\n",
       "    'ObjectId': 7}},\n",
       "  {'geometry': {'x': 255237.64768706044, 'y': 6253473.555498923},\n",
       "   'attributes': {'Name': 'Arc de triomphe',\n",
       "    'Latitude': 48.8737917,\n",
       "    'Longitude': 2.2928388,\n",
       "    'Label': 'Monument',\n",
       "    'Sub_label': 'Tourist1',\n",
       "    'ObjectId': 8}},\n",
       "  {'geometry': {'x': 260855.6974845172, 'y': 6250464.763435886},\n",
       "   'attributes': {'Name': 'Conciergerie',\n",
       "    'Latitude': 48.8560114,\n",
       "    'Longitude': 2.3433066,\n",
       "    'Label': 'Monument',\n",
       "    'Sub_label': 'Tourist3',\n",
       "    'ObjectId': 9}},\n",
       "  {'geometry': {'x': 255176.84498118915, 'y': 6250863.842444102},\n",
       "   'attributes': {'Name': 'Tour eiffel',\n",
       "    'Latitude': 48.8583701,\n",
       "    'Longitude': 2.2922926,\n",
       "    'Label': 'Monument',\n",
       "    'Sub_label': 'Tourist2',\n",
       "    'ObjectId': 10}},\n",
       "  {'geometry': {'x': 257177.60132116574, 'y': 6252173.35365185},\n",
       "   'attributes': {'Name': 'Grand palais',\n",
       "    'Latitude': 48.866109,\n",
       "    'Longitude': 2.3102657,\n",
       "    'Label': 'Monument',\n",
       "    'Sub_label': 'Tourist2',\n",
       "    'ObjectId': 11}},\n",
       "  {'geometry': {'x': 256446.666412668, 'y': 6252173.302884461},\n",
       "   'attributes': {'Name': 'Invalides',\n",
       "    'Latitude': 48.8661087,\n",
       "    'Longitude': 2.3036996,\n",
       "    'Label': 'Monument',\n",
       "    'Sub_label': 'Tourist1',\n",
       "    'ObjectId': 12}},\n",
       "  {'geometry': {'x': 259309.03561138452, 'y': 6253165.186499633},\n",
       "   'attributes': {'Name': 'Palais Garnier',\n",
       "    'Latitude': 48.8719697,\n",
       "    'Longitude': 2.3294127,\n",
       "    'Label': 'Monument',\n",
       "    'Sub_label': 'Tourist1',\n",
       "    'ObjectId': 13}},\n",
       "  {'geometry': {'x': 260957.94443681082, 'y': 6248808.618148577},\n",
       "   'attributes': {'Name': 'Panthéon',\n",
       "    'Latitude': 48.8462218,\n",
       "    'Longitude': 2.3442251,\n",
       "    'Label': 'Monument',\n",
       "    'Sub_label': 'Tourist2',\n",
       "    'ObjectId': 14}},\n",
       "  {'geometry': {'x': 263085.5716004445, 'y': 6250397.0875107},\n",
       "   'attributes': {'Name': 'Place des Vosges',\n",
       "    'Latitude': 48.8556114,\n",
       "    'Longitude': 2.3633379,\n",
       "    'Label': 'Monument',\n",
       "    'Sub_label': 'Tourist3',\n",
       "    'ObjectId': 15}},\n",
       "  {'geometry': {'x': 259057.92110405306, 'y': 6252422.946730881},\n",
       "   'attributes': {'Name': 'Place Vendôme',\n",
       "    'Latitude': 48.8675839,\n",
       "    'Longitude': 2.3271569,\n",
       "    'Label': 'Monument',\n",
       "    'Sub_label': 'Tourist1',\n",
       "    'ObjectId': 16}},\n",
       "  {'geometry': {'x': 260589.5325820305, 'y': 6255659.353842556},\n",
       "   'attributes': {'Name': 'Sacré coeur',\n",
       "    'Latitude': 48.8867046,\n",
       "    'Longitude': 2.3409156,\n",
       "    'Label': 'Churche',\n",
       "    'Sub_label': 'Tourist1',\n",
       "    'ObjectId': 17}},\n",
       "  {'geometry': {'x': 259117.90004569248, 'y': 6255863.05121025},\n",
       "   'attributes': {'Name': 'Cimetière de Montmartre',\n",
       "    'Latitude': 48.8879078,\n",
       "    'Longitude': 2.3276957,\n",
       "    'Label': 'Churche',\n",
       "    'Sub_label': 'Tourist2',\n",
       "    'ObjectId': 18}},\n",
       "  {'geometry': {'x': 257412.38525919785, 'y': 6255862.814192511},\n",
       "   'attributes': {'Name': 'Notre Dame',\n",
       "    'Latitude': 48.8879064,\n",
       "    'Longitude': 2.3123748,\n",
       "    'Label': 'Churche',\n",
       "    'Sub_label': 'Tourist1',\n",
       "    'ObjectId': 19}},\n",
       "  {'geometry': {'x': 264368.0834538738, 'y': 6253436.963595745},\n",
       "   'attributes': {'Name': 'Cimetière du père Lachaise',\n",
       "    'Latitude': 48.8735755,\n",
       "    'Longitude': 2.3748589,\n",
       "    'Label': 'Churche',\n",
       "    'Sub_label': 'Tourist1',\n",
       "    'ObjectId': 20}},\n",
       "  {'geometry': {'x': 260799.11378734696, 'y': 6250364.704771779},\n",
       "   'attributes': {'Name': 'Sainte-chapelle',\n",
       "    'Latitude': 48.85542,\n",
       "    'Longitude': 2.3427983,\n",
       "    'Label': 'Churche',\n",
       "    'Sub_label': 'Tourist2',\n",
       "    'ObjectId': 21}},\n",
       "  {'geometry': {'x': 260868.43243426396, 'y': 6251681.110443884},\n",
       "   'attributes': {'Name': 'St Eustache',\n",
       "    'Latitude': 48.8632001,\n",
       "    'Longitude': 2.343421,\n",
       "    'Label': 'Churche',\n",
       "    'Sub_label': 'Tourist2',\n",
       "    'ObjectId': 22}},\n",
       "  {'geometry': {'x': 258620.63588031894, 'y': 6252451.29273863},\n",
       "   'attributes': {'Name': 'La Madeleine',\n",
       "    'Latitude': 48.8677514,\n",
       "    'Longitude': 2.3232287,\n",
       "    'Label': 'Churche',\n",
       "    'Sub_label': 'Tourist1',\n",
       "    'ObjectId': 23}},\n",
       "  {'geometry': {'x': 261932.90280107647, 'y': 6248067.707257901},\n",
       "   'attributes': {'Name': 'Mosqué de Paris',\n",
       "    'Latitude': 48.8418416,\n",
       "    'Longitude': 2.3529833,\n",
       "    'Label': 'Churche',\n",
       "    'Sub_label': 'Tourist1',\n",
       "    'ObjectId': 24}},\n",
       "  {'geometry': {'x': 235793.23845926867, 'y': 6241815.67861312},\n",
       "   'attributes': {'Name': 'Palace of Versailles',\n",
       "    'Latitude': 48.8048649,\n",
       "    'Longitude': 2.1181667,\n",
       "    'Label': 'Monument',\n",
       "    'Sub_label': 'Tourist1',\n",
       "    'ObjectId': 25}},\n",
       "  {'geometry': {'x': 262452.0301144418, 'y': 6263917.596559937},\n",
       "   'attributes': {'Name': 'Saint Denis Basilica',\n",
       "    'Latitude': 48.9354612,\n",
       "    'Longitude': 2.3576467,\n",
       "    'Label': 'Monument',\n",
       "    'Sub_label': 'Tourist3',\n",
       "    'ObjectId': 26}},\n",
       "  {'geometry': {'x': 300262.85288508143, 'y': 6174011.92584687},\n",
       "   'attributes': {'Name': 'Château de Fontainebleau',\n",
       "    'Latitude': 48.4020962,\n",
       "    'Longitude': 2.6973071,\n",
       "    'Label': 'Monument',\n",
       "    'Sub_label': 'Tourist2',\n",
       "    'ObjectId': 27}},\n",
       "  {'geometry': {'x': 301892.48117470235, 'y': 6201507.343729824},\n",
       "   'attributes': {'Name': 'Château de Vaux-le-Vicomte',\n",
       "    'Latitude': 48.565812,\n",
       "    'Longitude': 2.7119463,\n",
       "    'Label': 'Monument',\n",
       "    'Sub_label': 'Tourist3',\n",
       "    'ObjectId': 28}},\n",
       "  {'geometry': {'x': 270874.2512808284, 'y': 6248190.60717491},\n",
       "   'attributes': {'Name': 'Château de Vincennes ',\n",
       "    'Latitude': 48.8425682,\n",
       "    'Longitude': 2.4333048,\n",
       "    'Label': 'Monument',\n",
       "    'Sub_label': 'Tourist3',\n",
       "    'ObjectId': 29}},\n",
       "  {'geometry': {'x': 215689.55067920283, 'y': 6280257.519953119},\n",
       "   'attributes': {'Name': 'Château Villette ',\n",
       "    'Latitude': 49.0317918,\n",
       "    'Longitude': 1.9375722,\n",
       "    'Label': 'Monument',\n",
       "    'Sub_label': 'Tourist3',\n",
       "    'ObjectId': 30}},\n",
       "  {'geometry': {'x': 255407.13161179316, 'y': 6235507.085062261},\n",
       "   'attributes': {'Name': 'Parc de Sceaux',\n",
       "    'Latitude': 48.767526,\n",
       "    'Longitude': 2.2943613,\n",
       "    'Label': 'Monument',\n",
       "    'Sub_label': 'Tourist3',\n",
       "    'ObjectId': 31}},\n",
       "  {'geometry': {'x': 248755.71411325154, 'y': 6256385.962356026},\n",
       "   'attributes': {'Name': 'La Défense',\n",
       "    'Latitude': 48.8909964,\n",
       "    'Longitude': 2.2346106,\n",
       "    'Label': 'Neighborhoud',\n",
       "    'Sub_label': 'Tourist2',\n",
       "    'ObjectId': 32}},\n",
       "  {'geometry': {'x': 233185.969005654, 'y': 6283448.887975002},\n",
       "   'attributes': {'Name': 'Cathédrale Saint-Maclou de Pontoise',\n",
       "    'Latitude': 49.0505845,\n",
       "    'Longitude': 2.0947452,\n",
       "    'Label': 'Monument',\n",
       "    'Sub_label': 'Tourist3',\n",
       "    'ObjectId': 33}},\n",
       "  {'geometry': {'x': 307951.86822535814, 'y': 6250233.500113915},\n",
       "   'attributes': {'Name': 'Disneyland Paris Resort',\n",
       "    'Latitude': 48.8546445,\n",
       "    'Longitude': 2.7663787,\n",
       "    'Label': 'Entertainment',\n",
       "    'Sub_label': 'Tourist1',\n",
       "    'ObjectId': 34}},\n",
       "  {'geometry': {'x': 286028.91940310504, 'y': 6297285.3988246},\n",
       "   'attributes': {'Name': 'Parc Astérix',\n",
       "    'Latitude': 49.1319801,\n",
       "    'Longitude': 2.5694415,\n",
       "    'Label': 'Entertainment',\n",
       "    'Sub_label': 'Tourist2',\n",
       "    'ObjectId': 35}},\n",
       "  {'geometry': {'x': 262488.6653588619, 'y': 6262053.407441765},\n",
       "   'attributes': {'Name': 'Stade de France ',\n",
       "    'Latitude': 48.9244592,\n",
       "    'Longitude': 2.3579758,\n",
       "    'Label': 'Entertainment',\n",
       "    'Sub_label': 'Tourist2',\n",
       "    'ObjectId': 36}},\n",
       "  {'geometry': {'x': 258882.38139902113, 'y': 6255572.404730061},\n",
       "   'attributes': {'Name': 'Montmartre',\n",
       "    'Latitude': 48.886191,\n",
       "    'Longitude': 2.32558,\n",
       "    'Label': 'Neighborhoud',\n",
       "    'Sub_label': 'Tourist1',\n",
       "    'ObjectId': 37}},\n",
       "  {'geometry': {'x': 261604.4991712872, 'y': 6250566.718238154},\n",
       "   'attributes': {'Name': 'The Sorbonne',\n",
       "    'Latitude': 48.856614,\n",
       "    'Longitude': 2.3500332,\n",
       "    'Label': 'Monument',\n",
       "    'Sub_label': 'Tourist3',\n",
       "    'ObjectId': 38}},\n",
       "  {'geometry': {'x': 253532.32214370012, 'y': 6249453.639915422},\n",
       "   'attributes': {'Name': 'Statue de la Liberté Paris',\n",
       "    'Latitude': 48.8500348,\n",
       "    'Longitude': 2.2775196,\n",
       "    'Label': 'Monument',\n",
       "    'Sub_label': 'Tourist3',\n",
       "    'ObjectId': 39}},\n",
       "  {'geometry': {'x': 255891.13762581325, 'y': 6251848.634742794},\n",
       "   'attributes': {'Name': 'Flame of Liberty',\n",
       "    'Latitude': 48.8641901,\n",
       "    'Longitude': 2.2987092,\n",
       "    'Label': 'Monument',\n",
       "    'Sub_label': 'Tourist3',\n",
       "    'ObjectId': 40}},\n",
       "  {'geometry': {'x': 257043.39454306537, 'y': 6247819.375707383},\n",
       "   'attributes': {'Name': 'Pasteur Institute',\n",
       "    'Latitude': 48.8403734,\n",
       "    'Longitude': 2.3090601,\n",
       "    'Label': 'Museum',\n",
       "    'Sub_label': 'Tourist3',\n",
       "    'ObjectId': 41}},\n",
       "  {'geometry': {'x': 261932.90280107647, 'y': 6248067.707257901},\n",
       "   'attributes': {'Name': 'Arab World Institute',\n",
       "    'Latitude': 48.8418416,\n",
       "    'Longitude': 2.3529833,\n",
       "    'Label': 'Museum',\n",
       "    'Sub_label': 'Tourist2',\n",
       "    'ObjectId': 42}},\n",
       "  {'geometry': {'x': 264539.13698342675, 'y': 6247508.929222647},\n",
       "   'attributes': {'Name': 'Bercy Arena',\n",
       "    'Latitude': 48.8385379,\n",
       "    'Longitude': 2.3763955,\n",
       "    'Label': 'Entertainment',\n",
       "    'Sub_label': 'Tourist2',\n",
       "    'ObjectId': 43}},\n",
       "  {'geometry': {'x': 260053.76300479154, 'y': 6244320.166653964},\n",
       "   'attributes': {'Name': 'Cité internationale universitaire de Paris',\n",
       "    'Latitude': 48.8196806,\n",
       "    'Longitude': 2.3361027,\n",
       "    'Label': 'Monument',\n",
       "    'Sub_label': 'Tourist3',\n",
       "    'ObjectId': 44}},\n",
       "  {'geometry': {'x': 256038.5580274708, 'y': 6247568.2945734635},\n",
       "   'attributes': {'Name': 'Musée Mendjisky',\n",
       "    'Latitude': 48.8388889,\n",
       "    'Longitude': 2.3000335,\n",
       "    'Label': 'Museum',\n",
       "    'Sub_label': 'Tourist3',\n",
       "    'ObjectId': 45}},\n",
       "  {'geometry': {'x': 263606.2017269356, 'y': 6249860.2504733475},\n",
       "   'attributes': {'Name': 'Opéra Bastille',\n",
       "    'Latitude': 48.8524383,\n",
       "    'Longitude': 2.3680148,\n",
       "    'Label': 'Entertainment',\n",
       "    'Sub_label': 'Tourist2',\n",
       "    'ObjectId': 46}},\n",
       "  {'geometry': {'x': 254355.618833709, 'y': 6251824.69041022},\n",
       "   'attributes': {'Name': 'Palais de Chaillot ',\n",
       "    'Latitude': 48.8640486,\n",
       "    'Longitude': 2.2849154,\n",
       "    'Label': 'Outdoor',\n",
       "    'Sub_label': 'Tourist3',\n",
       "    'ObjectId': 47}},\n",
       "  {'geometry': {'x': 267944.121908066, 'y': 6246929.656859673},\n",
       "   'attributes': {'Name': 'Palais de la Porte Dorée ',\n",
       "    'Latitude': 48.8351128,\n",
       "    'Longitude': 2.406983,\n",
       "    'Label': 'Museum',\n",
       "    'Sub_label': 'Tourist3',\n",
       "    'ObjectId': 48}},\n",
       "  {'geometry': {'x': 255467.39998410866, 'y': 6251850.817657045},\n",
       "   'attributes': {'Name': 'Palais de Tokyo ',\n",
       "    'Latitude': 48.864203,\n",
       "    'Longitude': 2.2949027,\n",
       "    'Label': 'Museum',\n",
       "    'Sub_label': 'Tourist1',\n",
       "    'ObjectId': 49}},\n",
       "  {'geometry': {'x': 255022.58956279687, 'y': 6251871.733050029},\n",
       "   'attributes': {'Name': \"Palais d'Iéna\",\n",
       "    'Latitude': 48.8643266,\n",
       "    'Longitude': 2.2909069,\n",
       "    'Label': 'Monument',\n",
       "    'Sub_label': 'Tourist3',\n",
       "    'ObjectId': 50}},\n",
       "  {'geometry': {'x': 255920.6150269753, 'y': 6254009.572226977},\n",
       "   'attributes': {'Name': 'Salle Pleyel ',\n",
       "    'Latitude': 48.8769586,\n",
       "    'Longitude': 2.298974,\n",
       "    'Label': 'Entertainment',\n",
       "    'Sub_label': 'Tourist2',\n",
       "    'ObjectId': 51}},\n",
       "  {'geometry': {'x': 260461.57082736358, 'y': 6251005.8349831},\n",
       "   'attributes': {'Name': 'La Samaritaine',\n",
       "    'Latitude': 48.8592093,\n",
       "    'Longitude': 2.3397661,\n",
       "    'Label': 'Store',\n",
       "    'Sub_label': 'Tourist2',\n",
       "    'ObjectId': 52}},\n",
       "  {'geometry': {'x': 256353.6033183648, 'y': 6252690.3168185735},\n",
       "   'attributes': {'Name': 'Champs-Élysées ',\n",
       "    'Latitude': 48.8691638,\n",
       "    'Longitude': 2.3028636,\n",
       "    'Label': 'Outdoor',\n",
       "    'Sub_label': 'Tourist3',\n",
       "    'ObjectId': 53}},\n",
       "  {'geometry': {'x': 258234.80252522943, 'y': 6248117.824363568},\n",
       "   'attributes': {'Name': 'Tour Montparnasse',\n",
       "    'Latitude': 48.8421379,\n",
       "    'Longitude': 2.3197627,\n",
       "    'Label': 'Monument',\n",
       "    'Sub_label': 'Tourist2',\n",
       "    'ObjectId': 54}},\n",
       "  {'geometry': {'x': 256452.18785941135, 'y': 6249354.997292104},\n",
       "   'attributes': {'Name': 'World Heritage Centre ',\n",
       "    'Latitude': 48.8494517,\n",
       "    'Longitude': 2.3037492,\n",
       "    'Label': 'Monument',\n",
       "    'Sub_label': 'Tourist3',\n",
       "    'ObjectId': 55}},\n",
       "  {'geometry': {'x': 258063.96050270897, 'y': 6247230.898576079},\n",
       "   'attributes': {'Name': 'Les Echelles du Baroque',\n",
       "    'Latitude': 48.836894,\n",
       "    'Longitude': 2.318228,\n",
       "    'Label': 'Monument',\n",
       "    'Sub_label': 'Tourist3',\n",
       "    'ObjectId': 56}},\n",
       "  {'geometry': {'x': 256749.76712219993, 'y': 6247192.456343807},\n",
       "   'attributes': {'Name': \"Église Notre-Dame-de-l'Arche-d'Alliance\",\n",
       "    'Latitude': 48.8366667,\n",
       "    'Longitude': 2.3064224,\n",
       "    'Label': 'Churche',\n",
       "    'Sub_label': 'Tourist3',\n",
       "    'ObjectId': 57}},\n",
       "  {'geometry': {'x': 259782.9115517424, 'y': 6251311.113466951},\n",
       "   'attributes': {'Name': 'Louvre Pyramid',\n",
       "    'Latitude': 48.8610135,\n",
       "    'Longitude': 2.3336696,\n",
       "    'Label': 'Monument',\n",
       "    'Sub_label': 'Tourist3',\n",
       "    'ObjectId': 58}},\n",
       "  {'geometry': {'x': 253049.96365814377, 'y': 6247920.452975343},\n",
       "   'attributes': {'Name': 'Parc André-Citroën',\n",
       "    'Latitude': 48.840971,\n",
       "    'Longitude': 2.2731865,\n",
       "    'Label': 'Outdoor',\n",
       "    'Sub_label': 'Tourist2',\n",
       "    'ObjectId': 59}},\n",
       "  {'geometry': {'x': 260117.56020496515, 'y': 6251565.4529247815},\n",
       "   'attributes': {'Name': 'Outside shell Ministère de la Culture',\n",
       "    'Latitude': 48.8625166,\n",
       "    'Longitude': 2.3366758,\n",
       "    'Label': 'Monument',\n",
       "    'Sub_label': 'Tourist3',\n",
       "    'ObjectId': 60}},\n",
       "  {'geometry': {'x': 264975.04184547503, 'y': 6247286.405881784},\n",
       "   'attributes': {'Name': 'Cinémathèque française',\n",
       "    'Latitude': 48.8372222,\n",
       "    'Longitude': 2.3803113,\n",
       "    'Label': 'Entertainment',\n",
       "    'Sub_label': 'Tourist3',\n",
       "    'ObjectId': 61}},\n",
       "  {'geometry': {'x': 259343.9565356464, 'y': 6247298.160217739},\n",
       "   'attributes': {'Name': \"Fondation Cartier pour l'art contemporain\",\n",
       "    'Latitude': 48.8372917,\n",
       "    'Longitude': 2.3297264,\n",
       "    'Label': 'Museum',\n",
       "    'Sub_label': 'Tourist2',\n",
       "    'ObjectId': 62}},\n",
       "  {'geometry': {'x': 248003.66189735034, 'y': 6251279.251773996},\n",
       "   'attributes': {'Name': 'Bibliothèque nationale de France',\n",
       "    'Latitude': 48.8608252,\n",
       "    'Longitude': 2.2278548,\n",
       "    'Label': 'Monument',\n",
       "    'Sub_label': 'Tourist2',\n",
       "    'ObjectId': 63}},\n",
       "  {'geometry': {'x': 255556.7450074193, 'y': 6251290.030251505},\n",
       "   'attributes': {'Name': 'Musée du quai Branly',\n",
       "    'Latitude': 48.8608889,\n",
       "    'Longitude': 2.2957053,\n",
       "    'Label': 'Museum',\n",
       "    'Sub_label': 'Tourist1',\n",
       "    'ObjectId': 64}},\n",
       "  {'geometry': {'x': 263601.54857222043, 'y': 6247874.869955036},\n",
       "   'attributes': {'Name': 'Cité de la mode et du design',\n",
       "    'Latitude': 48.8407015,\n",
       "    'Longitude': 2.367973,\n",
       "    'Label': 'Museum',\n",
       "    'Sub_label': 'Tourist2',\n",
       "    'ObjectId': 65}},\n",
       "  {'geometry': {'x': 251717.4804852974, 'y': 6253927.294695925},\n",
       "   'attributes': {'Name': 'Louis Vuitton Foundation',\n",
       "    'Latitude': 48.8764725,\n",
       "    'Longitude': 2.2612166,\n",
       "    'Label': 'Museum',\n",
       "    'Sub_label': 'Tourist1',\n",
       "    'ObjectId': 66}},\n",
       "  {'geometry': {'x': 266202.784509434, 'y': 6256137.877741708},\n",
       "   'attributes': {'Name': 'Philharmonie de Paris',\n",
       "    'Latitude': 48.8895311,\n",
       "    'Longitude': 2.3913403,\n",
       "    'Label': 'Entertainment',\n",
       "    'Sub_label': 'Tourist2',\n",
       "    'ObjectId': 67}},\n",
       "  {'geometry': {'x': 258087.5045750118, 'y': 6252773.817758101},\n",
       "   'attributes': {'Name': 'Galeries Layette',\n",
       "    'Latitude': 48.8696572,\n",
       "    'Longitude': 2.3184395,\n",
       "    'Label': 'Entertainment',\n",
       "    'Sub_label': 'Tourist1',\n",
       "    'ObjectId': 68}},\n",
       "  {'geometry': {'x': 257073.3172221906, 'y': 6249414.95075783},\n",
       "   'attributes': {'Name': 'Jardin du Luxembourg',\n",
       "    'Latitude': 48.8498061,\n",
       "    'Longitude': 2.3093289,\n",
       "    'Label': 'Outdoor',\n",
       "    'Sub_label': 'Tourist2',\n",
       "    'ObjectId': 69}},\n",
       "  {'geometry': {'x': 255638.72068043947, 'y': 6250403.787403176},\n",
       "   'attributes': {'Name': 'Champ de Mars',\n",
       "    'Latitude': 48.855651,\n",
       "    'Longitude': 2.2964417,\n",
       "    'Label': 'Outdoor',\n",
       "    'Sub_label': 'Tourist1',\n",
       "    'ObjectId': 70}},\n",
       "  {'geometry': {'x': 258229.61503695848, 'y': 6248982.7844097065},\n",
       "   'attributes': {'Name': 'Jardin des plantes',\n",
       "    'Latitude': 48.8472514,\n",
       "    'Longitude': 2.3197161,\n",
       "    'Label': 'Outdoor',\n",
       "    'Sub_label': 'Toursist2',\n",
       "    'ObjectId': 71}},\n",
       "  {'geometry': {'x': 255182.27737233986, 'y': 6245632.166888813},\n",
       "   'attributes': {'Name': 'Paris expo porte de versailles',\n",
       "    'Latitude': 48.8274402,\n",
       "    'Longitude': 2.2923414,\n",
       "    'Label': 'Entertainment',\n",
       "    'Sub_label': 'Tourist3',\n",
       "    'ObjectId': 72}},\n",
       "  {'geometry': {'x': 261816.44034980852, 'y': 6249023.078629378},\n",
       "   'attributes': {'Name': 'Bois de Vincennes',\n",
       "    'Latitude': 48.8474896,\n",
       "    'Longitude': 2.3519371,\n",
       "    'Label': 'Outdoor',\n",
       "    'Sub_label': 'Tourist3',\n",
       "    'ObjectId': 73}},\n",
       "  {'geometry': {'x': 264668.0894815617, 'y': 6252334.186263644},\n",
       "   'attributes': {'Name': 'Buttes-Chaumont',\n",
       "    'Latitude': 48.8670594,\n",
       "    'Longitude': 2.3775539,\n",
       "    'Label': 'Outdoor',\n",
       "    'Sub_label': 'Tourist2',\n",
       "    'ObjectId': 74}}],\n",
       " 'objectIdFieldName': 'ObjectId',\n",
       " 'globalIdFieldName': '',\n",
       " 'spatialReference': {'wkid': 102100, 'latestWkid': 3857},\n",
       " 'geometryType': 'esriGeometryPoint',\n",
       " 'fields': [{'name': 'Name',\n",
       "   'type': 'esriFieldTypeString',\n",
       "   'alias': 'Name',\n",
       "   'sqlType': 'sqlTypeNVarchar',\n",
       "   'length': 2147483647,\n",
       "   'domain': None,\n",
       "   'defaultValue': None},\n",
       "  {'name': 'Latitude',\n",
       "   'type': 'esriFieldTypeDouble',\n",
       "   'alias': 'Latitude',\n",
       "   'sqlType': 'sqlTypeFloat',\n",
       "   'domain': None,\n",
       "   'defaultValue': None},\n",
       "  {'name': 'Longitude',\n",
       "   'type': 'esriFieldTypeDouble',\n",
       "   'alias': 'Longitude',\n",
       "   'sqlType': 'sqlTypeFloat',\n",
       "   'domain': None,\n",
       "   'defaultValue': None},\n",
       "  {'name': 'Label',\n",
       "   'type': 'esriFieldTypeString',\n",
       "   'alias': 'Label',\n",
       "   'sqlType': 'sqlTypeNVarchar',\n",
       "   'length': 2147483647,\n",
       "   'domain': None,\n",
       "   'defaultValue': None},\n",
       "  {'name': 'Sub_label',\n",
       "   'type': 'esriFieldTypeString',\n",
       "   'alias': 'Sub label',\n",
       "   'sqlType': 'sqlTypeNVarchar',\n",
       "   'length': 2147483647,\n",
       "   'domain': None,\n",
       "   'defaultValue': None},\n",
       "  {'name': 'ObjectId',\n",
       "   'type': 'esriFieldTypeOID',\n",
       "   'alias': 'ObjectId',\n",
       "   'sqlType': 'sqlTypeInteger',\n",
       "   'domain': None,\n",
       "   'defaultValue': None}]}"
      ]
     },
     "execution_count": 21,
     "metadata": {},
     "output_type": "execute_result"
    }
   ],
   "source": [
    "json.loads(tourist_flayer.layers[0].query().to_json)"
   ]
  },
  {
   "cell_type": "code",
   "execution_count": 22,
   "metadata": {},
   "outputs": [
    {
     "ename": "NameError",
     "evalue": "name 'flayer_test_dict' is not defined",
     "output_type": "error",
     "traceback": [
      "\u001b[0;31m---------------------------------------------------------------------------\u001b[0m",
      "\u001b[0;31mNameError\u001b[0m                                 Traceback (most recent call last)",
      "\u001b[0;32m<ipython-input-22-cfdfab7bf4c6>\u001b[0m in \u001b[0;36m<module>\u001b[0;34m\u001b[0m\n\u001b[0;32m----> 1\u001b[0;31m \u001b[0mflayer_test_dict\u001b[0m\u001b[0;34m\u001b[0m\u001b[0;34m\u001b[0m\u001b[0m\n\u001b[0m",
      "\u001b[0;31mNameError\u001b[0m: name 'flayer_test_dict' is not defined"
     ]
    }
   ],
   "source": [
    "flayer_test_dict"
   ]
  },
  {
   "cell_type": "code",
   "execution_count": 85,
   "metadata": {},
   "outputs": [
    {
     "data": {
      "text/plain": [
       "{'spatialReference': {'latestWkid': 4326, 'wkid': 4326},\n",
       " 'x': 2.3158225,\n",
       " 'y': 48.8355492}"
      ]
     },
     "execution_count": 85,
     "metadata": {},
     "output_type": "execute_result"
    }
   ],
   "source": [
    "test_point = {'spatialReference': {'latestWkid': 3857, 'wkid': 102100}, 'x': 257796.17643974972, 'y': 6247003.454824805}\n",
    "test_point['x'] = 2.3158225\n",
    "test_point['y'] = 48.8355492\n",
    "test_point['spatialReference']['latestWkid'] = 4326\n",
    "test_point['spatialReference']['wkid'] = 4326\n",
    "test_point"
   ]
  },
  {
   "cell_type": "code",
   "execution_count": 86,
   "metadata": {},
   "outputs": [],
   "source": [
    "from arcgis.features import Feature, FeatureSet\n",
    "features = [Feature(geometry=test_point, attributes={'name': 'my_location'})]\n",
    "fset = FeatureSet(\n",
    "    features=features, \n",
    "    geometry_type='esriGeometryPoint',\n",
    "    spatial_reference = 3857\n",
    ")"
   ]
  },
  {
   "cell_type": "code",
   "execution_count": 94,
   "metadata": {},
   "outputs": [
    {
     "data": {
      "text/plain": [
       "<FeatureSet> 1 features"
      ]
     },
     "execution_count": 94,
     "metadata": {},
     "output_type": "execute_result"
    }
   ],
   "source": [
    "fset"
   ]
  },
  {
   "cell_type": "code",
   "execution_count": null,
   "metadata": {},
   "outputs": [],
   "source": []
  },
  {
   "cell_type": "code",
   "execution_count": null,
   "metadata": {},
   "outputs": [],
   "source": [
    "#fset_sdf = fset.sdf\n",
    "#fset_flayer = fset_sdf.spatial.to_featurelayer(title='test_2')\n",
    "#fset_flayer\n",
    "test_df = pd.DataFrame(test_point)\n",
    "test_df2 = pd.DataFrame.spatial.from_xy(test_df, x_column = 'x', y_column='y')\n",
    "test_df2.to_csv(\"test_2.csv\")"
   ]
  },
  {
   "cell_type": "code",
   "execution_count": null,
   "metadata": {},
   "outputs": [],
   "source": [
    "#test_df2.spatial.to_featureclass(\"test.shp\", overwrite=True)\n",
    "test_df2"
   ]
  },
  {
   "cell_type": "code",
   "execution_count": 43,
   "metadata": {},
   "outputs": [
    {
     "data": {
      "text/html": [
       "<div class=\"item_container\" style=\"height: auto; overflow: hidden; border: 1px solid #cfcfcf; border-radius: 2px; background: #f6fafa; line-height: 1.21429em; padding: 10px;\">\n",
       "                    <div class=\"item_left\" style=\"width: 210px; float: left;\">\n",
       "                       <a href='https://UCSDOnline.maps.arcgis.com/home/item.html?id=1f7d33cd1c8a4a2b886f3d853fe14e16' target='_blank'>\n",
       "                        <img src='data:image/png;base64,iVBORw0KGgoAAAANSUhEUgAAAMgAAACFCAYAAAAenrcsAAAAAXNSR0IB2cksfwAAAAlwSFlzAAAOxAAADsQBlSsOGwAAAW1JREFUeJzt0zERACAQwDAG/Ft+DHBdYUgUdOmemVnA1X4dAD8zCASDQDAIBINAMAgEg0AwCASDQDAIBINAMAgEg0AwCASDQDAIBINAMAgEg0AwCASDQDAIBINAMAgEg0AwCASDQDAIBINAMAgEg0AwCASDQDAIBINAMAgEg0AwCASDQDAIBINAMAgEg0AwCASDQDAIBINAMAgEg0AwCASDQDAIBINAMAgEg0AwCASDQDAIBINAMAgEg0AwCASDQDAIBINAMAgEg0AwCASDQDAIBINAMAgEg0AwCASDQDAIBINAMAgEg0AwCASDQDAIBINAMAgEg0AwCASDQDAIBINAMAgEg0AwCASDQDAIBINAMAgEg0AwCASDQDAIBINAMAgEg0AwCASDQDAIBINAMAgEg0AwCASDQDAIBINAMAgEg0AwCASDQDAIBINAMAgEg0AwCASDQDAIBINAMAgEg0AwCASDQDAIBINAMAiEA8sYBhH1AoahAAAAAElFTkSuQmCC' width='200' height='133' class=\"itemThumbnail\">\n",
       "                       </a>\n",
       "                    </div>\n",
       "\n",
       "                    <div class=\"item_right\"     style=\"float: none; width: auto; overflow: hidden;\">\n",
       "                        <a href='https://UCSDOnline.maps.arcgis.com/home/item.html?id=1f7d33cd1c8a4a2b886f3d853fe14e16' target='_blank'><b>Single Recommendation Point</b>\n",
       "                        </a>\n",
       "                        <br/><img src='https://UCSDOnline.maps.arcgis.com/home/js/jsapi/esri/css/images/item_type_icons/featureshosted16.png' style=\"vertical-align:middle;\">Feature Layer Collection by nracelis_ucsd5\n",
       "                        <br/>Last Modified: March 21, 2020\n",
       "                        <br/>0 comments, 0 views\n",
       "                    </div>\n",
       "                </div>\n",
       "                "
      ],
      "text/plain": [
       "<Item title:\"Single Recommendation Point\" type:Feature Layer Collection owner:nracelis_ucsd5>"
      ]
     },
     "execution_count": 43,
     "metadata": {},
     "output_type": "execute_result"
    }
   ],
   "source": [
    "new_flayer = gis.content.get('1f7d33cd1c8a4a2b886f3d853fe14e16')\n",
    "new_flayer"
   ]
  },
  {
   "cell_type": "code",
   "execution_count": 118,
   "metadata": {},
   "outputs": [
    {
     "ename": "Exception",
     "evalue": "Invalid format of input layer. url string, feature service Item, feature service instance or dict supported",
     "output_type": "error",
     "traceback": [
      "\u001b[0;31m---------------------------------------------------------------------------\u001b[0m",
      "\u001b[0;31mException\u001b[0m                                 Traceback (most recent call last)",
      "\u001b[0;32m<ipython-input-118-574f506c30ec>\u001b[0m in \u001b[0;36m<module>\u001b[0;34m\u001b[0m\n\u001b[1;32m      1\u001b[0m new_flayer_drive = arcgis.create_drive_time_areas(\n\u001b[0;32m----> 2\u001b[0;31m     \u001b[0mfset\u001b[0m\u001b[0;34m.\u001b[0m\u001b[0mfeatures\u001b[0m\u001b[0;34m[\u001b[0m\u001b[0;36m0\u001b[0m\u001b[0;34m]\u001b[0m\u001b[0;34m,\u001b[0m \u001b[0;34m[\u001b[0m\u001b[0;36m5\u001b[0m\u001b[0;34m,\u001b[0m\u001b[0;36m10\u001b[0m\u001b[0;34m,\u001b[0m\u001b[0;36m15\u001b[0m\u001b[0;34m]\u001b[0m\u001b[0;34m,\u001b[0m \u001b[0mtravel_mode\u001b[0m\u001b[0;34m=\u001b[0m\u001b[0;34m'Walking'\u001b[0m\u001b[0;34m\u001b[0m\u001b[0;34m\u001b[0m\u001b[0m\n\u001b[0m\u001b[1;32m      3\u001b[0m )\n",
      "\u001b[0;32m/opt/conda/lib/python3.7/site-packages/arcgis/features/use_proximity.py\u001b[0m in \u001b[0;36mcreate_drive_time_areas\u001b[0;34m(input_layer, break_values, break_units, travel_mode, overlap_policy, time_of_day, time_zone_for_time_of_day, output_name, context, gis)\u001b[0m\n\u001b[1;32m    181\u001b[0m         \u001b[0mtime_zone_for_time_of_day\u001b[0m\u001b[0;34m,\u001b[0m\u001b[0;34m\u001b[0m\u001b[0;34m\u001b[0m\u001b[0m\n\u001b[1;32m    182\u001b[0m         \u001b[0moutput_name\u001b[0m\u001b[0;34m,\u001b[0m\u001b[0;34m\u001b[0m\u001b[0;34m\u001b[0m\u001b[0m\n\u001b[0;32m--> 183\u001b[0;31m         context)\n\u001b[0m\u001b[1;32m    184\u001b[0m \u001b[0;34m\u001b[0m\u001b[0m\n\u001b[1;32m    185\u001b[0m \u001b[0;34m\u001b[0m\u001b[0m\n",
      "\u001b[0;32m/opt/conda/lib/python3.7/site-packages/arcgis/_impl/tools.py\u001b[0m in \u001b[0;36mcreate_drive_time_areas\u001b[0;34m(self, input_layer, break_values, break_units, travel_mode, overlap_policy, time_of_day, time_zone_for_time_of_day, output_name, context)\u001b[0m\n\u001b[1;32m    998\u001b[0m         \u001b[0mparams\u001b[0m \u001b[0;34m=\u001b[0m \u001b[0;34m{\u001b[0m\u001b[0;34m}\u001b[0m\u001b[0;34m\u001b[0m\u001b[0;34m\u001b[0m\u001b[0m\n\u001b[1;32m    999\u001b[0m \u001b[0;34m\u001b[0m\u001b[0m\n\u001b[0;32m-> 1000\u001b[0;31m         \u001b[0mparams\u001b[0m\u001b[0;34m[\u001b[0m\u001b[0;34m\"inputLayer\"\u001b[0m\u001b[0;34m]\u001b[0m \u001b[0;34m=\u001b[0m \u001b[0msuper\u001b[0m\u001b[0;34m(\u001b[0m\u001b[0;34m)\u001b[0m\u001b[0;34m.\u001b[0m\u001b[0m_feature_input\u001b[0m\u001b[0;34m(\u001b[0m\u001b[0minput_layer\u001b[0m\u001b[0;34m)\u001b[0m\u001b[0;34m\u001b[0m\u001b[0;34m\u001b[0m\u001b[0m\n\u001b[0m\u001b[1;32m   1001\u001b[0m         \u001b[0;32mif\u001b[0m \u001b[0mbreak_values\u001b[0m \u001b[0;32mis\u001b[0m \u001b[0;32mnot\u001b[0m \u001b[0;32mNone\u001b[0m\u001b[0;34m:\u001b[0m\u001b[0;34m\u001b[0m\u001b[0;34m\u001b[0m\u001b[0m\n\u001b[1;32m   1002\u001b[0m             \u001b[0mparams\u001b[0m\u001b[0;34m[\u001b[0m\u001b[0;34m\"breakValues\"\u001b[0m\u001b[0;34m]\u001b[0m \u001b[0;34m=\u001b[0m \u001b[0mbreak_values\u001b[0m\u001b[0;34m\u001b[0m\u001b[0;34m\u001b[0m\u001b[0m\n",
      "\u001b[0;32m/opt/conda/lib/python3.7/site-packages/arcgis/_impl/tools.py\u001b[0m in \u001b[0;36m_feature_input\u001b[0;34m(self, input_layer)\u001b[0m\n\u001b[1;32m    389\u001b[0m             \u001b[0minput_param\u001b[0m \u001b[0;34m=\u001b[0m  \u001b[0;34m{\u001b[0m\u001b[0;34m\"url\"\u001b[0m\u001b[0;34m:\u001b[0m \u001b[0minput_layer_url\u001b[0m \u001b[0;34m}\u001b[0m\u001b[0;34m\u001b[0m\u001b[0;34m\u001b[0m\u001b[0m\n\u001b[1;32m    390\u001b[0m         \u001b[0;32melse\u001b[0m\u001b[0;34m:\u001b[0m\u001b[0;34m\u001b[0m\u001b[0;34m\u001b[0m\u001b[0m\n\u001b[0;32m--> 391\u001b[0;31m             \u001b[0;32mraise\u001b[0m \u001b[0mException\u001b[0m\u001b[0;34m(\u001b[0m\u001b[0;34m\"Invalid format of input layer. url string, feature service Item, feature service instance or dict supported\"\u001b[0m\u001b[0;34m)\u001b[0m\u001b[0;34m\u001b[0m\u001b[0;34m\u001b[0m\u001b[0m\n\u001b[0m\u001b[1;32m    392\u001b[0m \u001b[0;34m\u001b[0m\u001b[0m\n\u001b[1;32m    393\u001b[0m         \u001b[0;32mreturn\u001b[0m \u001b[0minput_param\u001b[0m\u001b[0;34m\u001b[0m\u001b[0;34m\u001b[0m\u001b[0m\n",
      "\u001b[0;31mException\u001b[0m: Invalid format of input layer. url string, feature service Item, feature service instance or dict supported"
     ]
    }
   ],
   "source": [
    "new_flayer_drive = arcgis.create_drive_time_areas(\n",
    "    fset.features[0], [5,10,15], travel_mode='Walking'\n",
    ")"
   ]
  },
  {
   "cell_type": "code",
   "execution_count": 88,
   "metadata": {},
   "outputs": [
    {
     "data": {
      "application/vnd.jupyter.widget-view+json": {
       "model_id": "716333b2c383453ba48a0297ae38be3a",
       "version_major": 2,
       "version_minor": 0
      },
      "text/plain": [
       "MapView(layout=Layout(height='400px', width='100%'))"
      ]
     },
     "metadata": {},
     "output_type": "display_data"
    },
    {
     "data": {
      "text/html": [
       "<div class=\"map-static-img-preview-6b4b3062-701e-4ee5-b254-0bd0689a0259\"><img src=\"\"></img></div>"
      ],
      "text/plain": [
       "<IPython.core.display.HTML object>"
      ]
     },
     "metadata": {},
     "output_type": "display_data"
    }
   ],
   "source": [
    "new_map = gis.map('Paris')\n",
    "new_map.add_layer(fset)\n",
    "new_map"
   ]
  },
  {
   "cell_type": "code",
   "execution_count": null,
   "metadata": {},
   "outputs": [],
   "source": []
  },
  {
   "cell_type": "code",
   "execution_count": null,
   "metadata": {},
   "outputs": [],
   "source": []
  },
  {
   "cell_type": "code",
   "execution_count": null,
   "metadata": {},
   "outputs": [],
   "source": []
  },
  {
   "cell_type": "code",
   "execution_count": null,
   "metadata": {},
   "outputs": [],
   "source": []
  },
  {
   "cell_type": "code",
   "execution_count": 107,
   "metadata": {},
   "outputs": [
    {
     "data": {
      "text/plain": [
       "{'features': [{'attributes': {'FID': 1,\n",
       "    'name': 'my_location',\n",
       "    'OBJECTID': 1}}],\n",
       " 'objectIdFieldName': 'FID',\n",
       " 'globalIdFieldName': '',\n",
       " 'spatialReference': {'wkid': 102100, 'latestWkid': 3857},\n",
       " 'geometryType': 'esriGeometryPoint',\n",
       " 'fields': [{'name': 'FID',\n",
       "   'type': 'esriFieldTypeOID',\n",
       "   'alias': 'FID',\n",
       "   'sqlType': 'sqlTypeInteger',\n",
       "   'domain': None,\n",
       "   'defaultValue': None},\n",
       "  {'name': 'name',\n",
       "   'type': 'esriFieldTypeString',\n",
       "   'alias': 'name',\n",
       "   'sqlType': 'sqlTypeNVarchar',\n",
       "   'length': 255,\n",
       "   'domain': None,\n",
       "   'defaultValue': None},\n",
       "  {'name': 'OBJECTID',\n",
       "   'type': 'esriFieldTypeInteger',\n",
       "   'alias': 'OBJECTID',\n",
       "   'sqlType': 'sqlTypeInteger',\n",
       "   'domain': None,\n",
       "   'defaultValue': None}]}"
      ]
     },
     "execution_count": 107,
     "metadata": {},
     "output_type": "execute_result"
    }
   ],
   "source": [
    "json.loads(fset_flayer.layers[0].query().to_json)"
   ]
  },
  {
   "cell_type": "code",
   "execution_count": 92,
   "metadata": {},
   "outputs": [
    {
     "data": {
      "text/plain": [
       "{'spatialReference': {'latestWkid': 3857, 'wkid': 102100},\n",
       " 'x': 257796.17643974972,\n",
       " 'y': 6247003.454824805}"
      ]
     },
     "execution_count": 92,
     "metadata": {},
     "output_type": "execute_result"
    }
   ],
   "source": [
    "fset.features[0].geometry"
   ]
  },
  {
   "cell_type": "code",
   "execution_count": 100,
   "metadata": {},
   "outputs": [
    {
     "data": {
      "text/plain": [
       "{'geometry': {'x': 255618.99486667092, 'y': 6249519.261326158},\n",
       " 'attributes': {'Name': 'Centre George Pompidou',\n",
       "  'Latitude': 48.8504227,\n",
       "  'Longitude': 2.2962645,\n",
       "  'Label': 'Museum',\n",
       "  'Sub_label': 'Tourist1',\n",
       "  'ObjectId': 1}}"
      ]
     },
     "execution_count": 100,
     "metadata": {},
     "output_type": "execute_result"
    }
   ],
   "source": [
    "tourist_flayer.layers[0].query().features[0].as_dict"
   ]
  },
  {
   "cell_type": "code",
   "execution_count": 110,
   "metadata": {},
   "outputs": [
    {
     "data": {
      "text/html": [
       "<div>\n",
       "<style scoped>\n",
       "    .dataframe tbody tr th:only-of-type {\n",
       "        vertical-align: middle;\n",
       "    }\n",
       "\n",
       "    .dataframe tbody tr th {\n",
       "        vertical-align: top;\n",
       "    }\n",
       "\n",
       "    .dataframe thead th {\n",
       "        text-align: right;\n",
       "    }\n",
       "</style>\n",
       "<table border=\"1\" class=\"dataframe\">\n",
       "  <thead>\n",
       "    <tr style=\"text-align: right;\">\n",
       "      <th></th>\n",
       "      <th>FID</th>\n",
       "      <th>name</th>\n",
       "      <th>OBJECTID</th>\n",
       "    </tr>\n",
       "  </thead>\n",
       "  <tbody>\n",
       "    <tr>\n",
       "      <th>0</th>\n",
       "      <td>1</td>\n",
       "      <td>my_location</td>\n",
       "      <td>1</td>\n",
       "    </tr>\n",
       "  </tbody>\n",
       "</table>\n",
       "</div>"
      ],
      "text/plain": [
       "   FID         name  OBJECTID\n",
       "0    1  my_location         1"
      ]
     },
     "execution_count": 110,
     "metadata": {},
     "output_type": "execute_result"
    }
   ],
   "source": [
    "fset_flayer.layers[0].query().sdf"
   ]
  },
  {
   "cell_type": "code",
   "execution_count": null,
   "metadata": {},
   "outputs": [],
   "source": []
  }
 ],
 "metadata": {
  "kernelspec": {
   "display_name": "Python 3",
   "language": "python",
   "name": "python3"
  },
  "language_info": {
   "codemirror_mode": {
    "name": "ipython",
    "version": 3
   },
   "file_extension": ".py",
   "mimetype": "text/x-python",
   "name": "python",
   "nbconvert_exporter": "python",
   "pygments_lexer": "ipython3",
   "version": "3.7.3"
  }
 },
 "nbformat": 4,
 "nbformat_minor": 2
}
